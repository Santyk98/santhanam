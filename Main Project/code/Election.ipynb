{
  "nbformat": 4,
  "nbformat_minor": 0,
  "metadata": {
    "colab": {
      "provenance": [],
      "collapsed_sections": [],
      "authorship_tag": "ABX9TyMSMbtduzUYxlFlgrrU1jre",
      "include_colab_link": true
    },
    "kernelspec": {
      "name": "python3",
      "display_name": "Python 3"
    },
    "language_info": {
      "name": "python"
    }
  },
  "cells": [
    {
      "cell_type": "markdown",
      "metadata": {
        "id": "view-in-github",
        "colab_type": "text"
      },
      "source": [
        "<a href=\"https://colab.research.google.com/github/Santyk98/santhanam/blob/main/Main%20Project/code/Election.ipynb\" target=\"_parent\"><img src=\"https://colab.research.google.com/assets/colab-badge.svg\" alt=\"Open In Colab\"/></a>"
      ]
    },
    {
      "cell_type": "markdown",
      "source": [
        "##**\"Social Network Based Sentiment and Network Analysis to Predict Elections\"**\n"
      ],
      "metadata": {
        "id": "oJjayVI9U1Nq"
      }
    },
    {
      "cell_type": "markdown",
      "source": [
        "OBJECTIVE AND SCOPE OF THE PROJECT:\n",
        "⦁\tThe objective of this project is to show how sentimental analysis can help improve the user experience over a social network or system interface.  \n",
        "⦁\tThe learning algorithm will learn what our emotions are from statistical data then perform sentiment analysis.  \n",
        "⦁\tOur main objective is also maintain accuracy in the final result.  \n",
        "⦁\tThe main goal of such a sentiment analysis is to discover how the audience perceives the television show. The Twitter data that is collected will be classified into two categories; positive or negative. An analysis will then be performed on the classified data to investigate what percentage of the audience sample falls into each category.\n",
        "⦁\tParticular emphasis is placed on evaluating different machine learning algorithms for the task of twitter sentiment analysis."
      ],
      "metadata": {
        "id": "sKyLMlivVz6H"
      }
    },
    {
      "cell_type": "code",
      "source": [],
      "metadata": {
        "id": "J1obTKPbU0ap"
      },
      "execution_count": null,
      "outputs": []
    },
    {
      "cell_type": "code",
      "execution_count": 42,
      "metadata": {
        "id": "L9xp3qkeD7_G"
      },
      "outputs": [],
      "source": [
        "import pandas as pd\n",
        "import seaborn as sns\n",
        "from sklearn.svm import SVC\n",
        "from sklearn.naive_bayes import GaussianNB\n",
        "from sklearn.model_selection import train_test_split\n",
        "import numpy as np\n",
        "from sklearn.preprocessing import LabelEncoder\n",
        "from sklearn.ensemble import RandomForestClassifier\n",
        "import matplotlib.pyplot as plt\n",
        "from sklearn.metrics import confusion_matrix\n",
        "import sklearn\n",
        "from sklearn.feature_extraction.text import TfidfVectorizer, CountVectorizer\n",
        "\n",
        "import random"
      ]
    },
    {
      "cell_type": "code",
      "source": [
        "data = pd.read_csv('election.csv')"
      ],
      "metadata": {
        "id": "PTKNg6QfEIMZ"
      },
      "execution_count": 43,
      "outputs": []
    },
    {
      "cell_type": "code",
      "source": [
        "data.head()"
      ],
      "metadata": {
        "colab": {
          "base_uri": "https://localhost:8080/",
          "height": 206
        },
        "id": "Xk9grc-nETHp",
        "outputId": "348fc8a3-2139-4812-d84f-14096529865e"
      },
      "execution_count": 44,
      "outputs": [
        {
          "output_type": "execute_result",
          "data": {
            "text/plain": [
              "                    id                                         clean_text  \\\n",
              "0          1.11772E+18  RT chitraSD Jogging RahulGandhi ’ memory famil...   \n",
              "1  1118061974292533249  AAP INC want alliance stop division Anti-Modi ...   \n",
              "2  1117870131969810432  RT pankaj_shankar She priyankagandhi slams Mod...   \n",
              "3           1.1177E+18  RT airnewsalerts SC says RahulGandhi 's remark...   \n",
              "4  1117850484327366656  RT sachinsingh1010 75 year old Govindraj kille...   \n",
              "\n",
              "   polarity                place  \n",
              "0         0               Madras  \n",
              "1         0                  NaN  \n",
              "2         0                  NaN  \n",
              "3         0            New Delhi  \n",
              "4         0  New Delhi Varanasi   "
            ],
            "text/html": [
              "\n",
              "  <div id=\"df-d719cb8f-2b7f-4f79-a2fe-376b00c50549\">\n",
              "    <div class=\"colab-df-container\">\n",
              "      <div>\n",
              "<style scoped>\n",
              "    .dataframe tbody tr th:only-of-type {\n",
              "        vertical-align: middle;\n",
              "    }\n",
              "\n",
              "    .dataframe tbody tr th {\n",
              "        vertical-align: top;\n",
              "    }\n",
              "\n",
              "    .dataframe thead th {\n",
              "        text-align: right;\n",
              "    }\n",
              "</style>\n",
              "<table border=\"1\" class=\"dataframe\">\n",
              "  <thead>\n",
              "    <tr style=\"text-align: right;\">\n",
              "      <th></th>\n",
              "      <th>id</th>\n",
              "      <th>clean_text</th>\n",
              "      <th>polarity</th>\n",
              "      <th>place</th>\n",
              "    </tr>\n",
              "  </thead>\n",
              "  <tbody>\n",
              "    <tr>\n",
              "      <th>0</th>\n",
              "      <td>1.11772E+18</td>\n",
              "      <td>RT chitraSD Jogging RahulGandhi ’ memory famil...</td>\n",
              "      <td>0</td>\n",
              "      <td>Madras</td>\n",
              "    </tr>\n",
              "    <tr>\n",
              "      <th>1</th>\n",
              "      <td>1118061974292533249</td>\n",
              "      <td>AAP INC want alliance stop division Anti-Modi ...</td>\n",
              "      <td>0</td>\n",
              "      <td>NaN</td>\n",
              "    </tr>\n",
              "    <tr>\n",
              "      <th>2</th>\n",
              "      <td>1117870131969810432</td>\n",
              "      <td>RT pankaj_shankar She priyankagandhi slams Mod...</td>\n",
              "      <td>0</td>\n",
              "      <td>NaN</td>\n",
              "    </tr>\n",
              "    <tr>\n",
              "      <th>3</th>\n",
              "      <td>1.1177E+18</td>\n",
              "      <td>RT airnewsalerts SC says RahulGandhi 's remark...</td>\n",
              "      <td>0</td>\n",
              "      <td>New Delhi</td>\n",
              "    </tr>\n",
              "    <tr>\n",
              "      <th>4</th>\n",
              "      <td>1117850484327366656</td>\n",
              "      <td>RT sachinsingh1010 75 year old Govindraj kille...</td>\n",
              "      <td>0</td>\n",
              "      <td>New Delhi Varanasi</td>\n",
              "    </tr>\n",
              "  </tbody>\n",
              "</table>\n",
              "</div>\n",
              "      <button class=\"colab-df-convert\" onclick=\"convertToInteractive('df-d719cb8f-2b7f-4f79-a2fe-376b00c50549')\"\n",
              "              title=\"Convert this dataframe to an interactive table.\"\n",
              "              style=\"display:none;\">\n",
              "        \n",
              "  <svg xmlns=\"http://www.w3.org/2000/svg\" height=\"24px\"viewBox=\"0 0 24 24\"\n",
              "       width=\"24px\">\n",
              "    <path d=\"M0 0h24v24H0V0z\" fill=\"none\"/>\n",
              "    <path d=\"M18.56 5.44l.94 2.06.94-2.06 2.06-.94-2.06-.94-.94-2.06-.94 2.06-2.06.94zm-11 1L8.5 8.5l.94-2.06 2.06-.94-2.06-.94L8.5 2.5l-.94 2.06-2.06.94zm10 10l.94 2.06.94-2.06 2.06-.94-2.06-.94-.94-2.06-.94 2.06-2.06.94z\"/><path d=\"M17.41 7.96l-1.37-1.37c-.4-.4-.92-.59-1.43-.59-.52 0-1.04.2-1.43.59L10.3 9.45l-7.72 7.72c-.78.78-.78 2.05 0 2.83L4 21.41c.39.39.9.59 1.41.59.51 0 1.02-.2 1.41-.59l7.78-7.78 2.81-2.81c.8-.78.8-2.07 0-2.86zM5.41 20L4 18.59l7.72-7.72 1.47 1.35L5.41 20z\"/>\n",
              "  </svg>\n",
              "      </button>\n",
              "      \n",
              "  <style>\n",
              "    .colab-df-container {\n",
              "      display:flex;\n",
              "      flex-wrap:wrap;\n",
              "      gap: 12px;\n",
              "    }\n",
              "\n",
              "    .colab-df-convert {\n",
              "      background-color: #E8F0FE;\n",
              "      border: none;\n",
              "      border-radius: 50%;\n",
              "      cursor: pointer;\n",
              "      display: none;\n",
              "      fill: #1967D2;\n",
              "      height: 32px;\n",
              "      padding: 0 0 0 0;\n",
              "      width: 32px;\n",
              "    }\n",
              "\n",
              "    .colab-df-convert:hover {\n",
              "      background-color: #E2EBFA;\n",
              "      box-shadow: 0px 1px 2px rgba(60, 64, 67, 0.3), 0px 1px 3px 1px rgba(60, 64, 67, 0.15);\n",
              "      fill: #174EA6;\n",
              "    }\n",
              "\n",
              "    [theme=dark] .colab-df-convert {\n",
              "      background-color: #3B4455;\n",
              "      fill: #D2E3FC;\n",
              "    }\n",
              "\n",
              "    [theme=dark] .colab-df-convert:hover {\n",
              "      background-color: #434B5C;\n",
              "      box-shadow: 0px 1px 3px 1px rgba(0, 0, 0, 0.15);\n",
              "      filter: drop-shadow(0px 1px 2px rgba(0, 0, 0, 0.3));\n",
              "      fill: #FFFFFF;\n",
              "    }\n",
              "  </style>\n",
              "\n",
              "      <script>\n",
              "        const buttonEl =\n",
              "          document.querySelector('#df-d719cb8f-2b7f-4f79-a2fe-376b00c50549 button.colab-df-convert');\n",
              "        buttonEl.style.display =\n",
              "          google.colab.kernel.accessAllowed ? 'block' : 'none';\n",
              "\n",
              "        async function convertToInteractive(key) {\n",
              "          const element = document.querySelector('#df-d719cb8f-2b7f-4f79-a2fe-376b00c50549');\n",
              "          const dataTable =\n",
              "            await google.colab.kernel.invokeFunction('convertToInteractive',\n",
              "                                                     [key], {});\n",
              "          if (!dataTable) return;\n",
              "\n",
              "          const docLinkHtml = 'Like what you see? Visit the ' +\n",
              "            '<a target=\"_blank\" href=https://colab.research.google.com/notebooks/data_table.ipynb>data table notebook</a>'\n",
              "            + ' to learn more about interactive tables.';\n",
              "          element.innerHTML = '';\n",
              "          dataTable['output_type'] = 'display_data';\n",
              "          await google.colab.output.renderOutput(dataTable, element);\n",
              "          const docLink = document.createElement('div');\n",
              "          docLink.innerHTML = docLinkHtml;\n",
              "          element.appendChild(docLink);\n",
              "        }\n",
              "      </script>\n",
              "    </div>\n",
              "  </div>\n",
              "  "
            ]
          },
          "metadata": {},
          "execution_count": 44
        }
      ]
    },
    {
      "cell_type": "code",
      "source": [
        "data.shape"
      ],
      "metadata": {
        "colab": {
          "base_uri": "https://localhost:8080/"
        },
        "id": "tCSMuwasEVLy",
        "outputId": "8c5bcb8e-3553-4958-88e7-fe2172c0ef40"
      },
      "execution_count": 45,
      "outputs": [
        {
          "output_type": "execute_result",
          "data": {
            "text/plain": [
              "(10365, 4)"
            ]
          },
          "metadata": {},
          "execution_count": 45
        }
      ]
    },
    {
      "cell_type": "code",
      "source": [
        "#Check the data\n",
        "data.info()\n"
      ],
      "metadata": {
        "colab": {
          "base_uri": "https://localhost:8080/"
        },
        "id": "-z86TNeEEW6z",
        "outputId": "4c79240d-8289-4e59-9d5f-98aff1ba7336"
      },
      "execution_count": 46,
      "outputs": [
        {
          "output_type": "stream",
          "name": "stdout",
          "text": [
            "<class 'pandas.core.frame.DataFrame'>\n",
            "RangeIndex: 10365 entries, 0 to 10364\n",
            "Data columns (total 4 columns):\n",
            " #   Column      Non-Null Count  Dtype \n",
            "---  ------      --------------  ----- \n",
            " 0   id          10365 non-null  object\n",
            " 1   clean_text  10365 non-null  object\n",
            " 2   polarity    10365 non-null  int64 \n",
            " 3   place       7311 non-null   object\n",
            "dtypes: int64(1), object(3)\n",
            "memory usage: 324.0+ KB\n"
          ]
        }
      ]
    },
    {
      "cell_type": "code",
      "source": [
        "#Check the missing values in the data\n",
        "data.isnull().sum()"
      ],
      "metadata": {
        "colab": {
          "base_uri": "https://localhost:8080/"
        },
        "id": "_19Y_RgYEYsJ",
        "outputId": "7fa53dba-a430-40c0-a89b-9dd8eaa63f9a"
      },
      "execution_count": 47,
      "outputs": [
        {
          "output_type": "execute_result",
          "data": {
            "text/plain": [
              "id               0\n",
              "clean_text       0\n",
              "polarity         0\n",
              "place         3054\n",
              "dtype: int64"
            ]
          },
          "metadata": {},
          "execution_count": 47
        }
      ]
    },
    {
      "cell_type": "code",
      "source": [
        "data['polarity'].value_counts()"
      ],
      "metadata": {
        "colab": {
          "base_uri": "https://localhost:8080/"
        },
        "id": "axVq0nXgEalq",
        "outputId": "3cf3c973-8432-41da-b5c5-7ba6463e8205"
      },
      "execution_count": 48,
      "outputs": [
        {
          "output_type": "execute_result",
          "data": {
            "text/plain": [
              "0    5787\n",
              "1    4578\n",
              "Name: polarity, dtype: int64"
            ]
          },
          "metadata": {},
          "execution_count": 48
        }
      ]
    },
    {
      "cell_type": "code",
      "source": [
        "# Prepare Data\n",
        "df = data.groupby('polarity').size().reset_index(name='counts')\n",
        "n = df['polarity'].unique().__len__()+1\n",
        "all_colors = list(plt.cm.colors.cnames.keys())\n",
        "random.seed(100)\n",
        "c = random.choices(all_colors, k=n)\n",
        "\n",
        "# Plot Bars\n",
        "plt.figure(figsize=(6,6), dpi= 80)\n",
        "plt.bar(df['polarity'], df['counts'], color=c, width=.5)\n",
        "for i, val in enumerate(df['counts'].values):\n",
        "    plt.text(i, val, float(val), horizontalalignment='center', verticalalignment='bottom', fontdict={'fontweight':500, 'size':12})\n",
        "\n",
        "# Decoration\n",
        "plt.gca().set_xticklabels(df['polarity'], rotation=60, horizontalalignment= 'right')\n",
        "\n",
        "plt.ylim(0, 6000)\n",
        "plt.show()"
      ],
      "metadata": {
        "colab": {
          "base_uri": "https://localhost:8080/",
          "height": 418
        },
        "id": "vE2f75R6Ecm5",
        "outputId": "758984d3-dc4c-42ba-f82d-016b4c858f31"
      },
      "execution_count": 49,
      "outputs": [
        {
          "output_type": "display_data",
          "data": {
            "text/plain": [
              "<Figure size 480x480 with 1 Axes>"
            ],
            "image/png": "[encoded data removed]"
          },
          "metadata": {
            "needs_background": "light"
          }
        }
      ]
    },
    {
      "cell_type": "code",
      "source": [
        "data['polarity'].value_counts()"
      ],
      "metadata": {
        "colab": {
          "base_uri": "https://localhost:8080/"
        },
        "id": "nyujWQYNEeHK",
        "outputId": "f2fa5066-5e6c-4006-bee1-f11c20f7ad09"
      },
      "execution_count": 50,
      "outputs": [
        {
          "output_type": "execute_result",
          "data": {
            "text/plain": [
              "0    5787\n",
              "1    4578\n",
              "Name: polarity, dtype: int64"
            ]
          },
          "metadata": {},
          "execution_count": 50
        }
      ]
    },
    {
      "cell_type": "code",
      "source": [
        "from sklearn.utils import resample\n",
        "# Separate majority and minority classes\n",
        "df_majority = data[data['polarity']== 0]\n",
        "df_minority = data[data['polarity']== 1]\n",
        " \n",
        "# Downsample majority class and upsample the minority class\n",
        "df_minority_upsampled = resample(df_minority, replace=True,n_samples=5000,random_state=123) \n",
        "df_majority_downsampled = resample(df_majority, replace=False,n_samples=5000,random_state=123) \n",
        " \n",
        "# Combine minority class with downsampled majority class\n",
        "df_upsampled = pd.concat([df_minority_upsampled, df_majority_downsampled])\n",
        " \n",
        "# Display new class counts\n",
        "df_upsampled['polarity'].value_counts()"
      ],
      "metadata": {
        "colab": {
          "base_uri": "https://localhost:8080/"
        },
        "id": "VRKWd7GXEhKY",
        "outputId": "192e3e0b-a430-44f1-dac1-6c562a4dbcc6"
      },
      "execution_count": 51,
      "outputs": [
        {
          "output_type": "execute_result",
          "data": {
            "text/plain": [
              "1    5000\n",
              "0    5000\n",
              "Name: polarity, dtype: int64"
            ]
          },
          "metadata": {},
          "execution_count": 51
        }
      ]
    },
    {
      "cell_type": "code",
      "source": [
        "# shuffle the DataFrame rows \n",
        "data= df_upsampled.sample(frac = 1)"
      ],
      "metadata": {
        "id": "tvaMJZbNEira"
      },
      "execution_count": 52,
      "outputs": []
    },
    {
      "cell_type": "code",
      "source": [
        "# Prepare Data\n",
        "df = data.groupby('polarity').size().reset_index(name='counts')\n",
        "n = df['polarity'].unique().__len__()+1\n",
        "all_colors = list(plt.cm.colors.cnames.keys())\n",
        "random.seed(100)\n",
        "c = random.choices(all_colors, k=n)\n",
        "\n",
        "# Plot Bars\n",
        "plt.figure(figsize=(6,6), dpi= 80)\n",
        "plt.bar(df['polarity'], df['counts'], color=c, width=.5)\n",
        "for i, val in enumerate(df['counts'].values):\n",
        "    plt.text(i, val, float(val), horizontalalignment='center', verticalalignment='bottom', fontdict={'fontweight':500, 'size':12})\n",
        "\n",
        "# Decoration\n",
        "plt.gca().set_xticklabels(df['polarity'], rotation=60, horizontalalignment= 'right')\n",
        "\n",
        "plt.ylim(0, 6000)\n",
        "plt.show()"
      ],
      "metadata": {
        "colab": {
          "base_uri": "https://localhost:8080/",
          "height": 418
        },
        "id": "Zk-xk5L6EmLx",
        "outputId": "078cc661-0bc9-42ab-a82c-bfae3b8c2271"
      },
      "execution_count": 53,
      "outputs": [
        {
          "output_type": "display_data",
          "data": {
            "text/plain": [
              "<Figure size 480x480 with 1 Axes>"
            ],
            "image/png": "[encoded data removed]"
          },
          "metadata": {
            "needs_background": "light"
          }
        }
      ]
    },
    {
      "cell_type": "code",
      "source": [
        "# https://stackoverflow.com/a/47091490/4084039\n",
        "import re\n",
        "\n",
        "def decontracted(phrase):\n",
        "    # specific\n",
        "    phrase = re.sub(r\"won't\", \"will not\", phrase)\n",
        "    phrase = re.sub(r\"can\\'t\", \"can not\", phrase)\n",
        "\n",
        "    # general\n",
        "    phrase = re.sub(r\"n\\'t\", \" not\", phrase)\n",
        "    phrase = re.sub(r\"\\'re\", \" are\", phrase)\n",
        "    phrase = re.sub(r\"\\'s\", \" is\", phrase)\n",
        "    phrase = re.sub(r\"\\'d\", \" would\", phrase)\n",
        "    phrase = re.sub(r\"\\'ll\", \" will\", phrase)\n",
        "    phrase = re.sub(r\"\\'t\", \" not\", phrase)\n",
        "    phrase = re.sub(r\"\\'ve\", \" have\", phrase)\n",
        "    phrase = re.sub(r\"\\'m\", \" am\", phrase)\n",
        "    return phrase"
      ],
      "metadata": {
        "id": "e4gSOrDbEno4"
      },
      "execution_count": 54,
      "outputs": []
    },
    {
      "cell_type": "code",
      "source": [
        "# we are removing the words from the stop words list: 'no', 'nor', 'not'\n",
        "stopwords= ['i', 'me', 'my', 'myself', 'we', 'our', 'ours', 'ourselves', 'you', \"you're\", \"you've\",\\\n",
        "            \"you'll\", \"you'd\", 'your', 'yours', 'yourself', 'yourselves', 'he', 'him', 'his', 'himself', \\\n",
        "            'she', \"she's\", 'her', 'hers', 'herself', 'it', \"it's\", 'its', 'itself', 'they', 'them', 'their',\\\n",
        "            'theirs', 'themselves', 'what', 'which', 'who', 'whom', 'this', 'that', \"that'll\", 'these', 'those', \\\n",
        "            'am', 'is', 'are', 'was', 'were', 'be', 'been', 'being', 'have', 'has', 'had', 'having', 'do', 'does', \\\n",
        "            'did', 'doing', 'a', 'an', 'the', 'and', 'but', 'if', 'or', 'because', 'as', 'until', 'while', 'of', \\\n",
        "            'at', 'by', 'for', 'with', 'about', 'against', 'between', 'into', 'through', 'during', 'before', 'after',\\\n",
        "            'above', 'below', 'to', 'from', 'up', 'down', 'in', 'out', 'on', 'off', 'over', 'under', 'again', 'further',\\\n",
        "            'then', 'once', 'here', 'there', 'when', 'where', 'why', 'how', 'all', 'any', 'both', 'each', 'few', 'more',\\\n",
        "            'most', 'other', 'some', 'such', 'only', 'own', 'same', 'so', 'than', 'too', 'very', \\\n",
        "            's', 't', 'can', 'will', 'just', 'don', \"don't\", 'should', \"should've\", 'now', 'd', 'll', 'm', 'o', 're', \\\n",
        "            've', 'y', 'ain', 'aren', \"aren't\", 'couldn', \"couldn't\", 'didn', \"didn't\", 'doesn', \"doesn't\", 'hadn',\\\n",
        "            \"hadn't\", 'hasn', \"hasn't\", 'haven', \"haven't\", 'isn', \"isn't\", 'ma', 'mightn', \"mightn't\", 'mustn',\\\n",
        "            \"mustn't\", 'needn', \"needn't\", 'shan', \"shan't\", 'shouldn', \"shouldn't\", 'wasn', \"wasn't\", 'weren', \"weren't\", \\\n",
        "            'won', \"won't\", 'wouldn', \"wouldn't\"]"
      ],
      "metadata": {
        "id": "Jk3KajwzErRh"
      },
      "execution_count": 55,
      "outputs": []
    },
    {
      "cell_type": "code",
      "source": [
        "data['clean_text'].head(5)"
      ],
      "metadata": {
        "colab": {
          "base_uri": "https://localhost:8080/"
        },
        "id": "g9R3fr8HEs9J",
        "outputId": "7ffd31fc-29d6-4eed-c9a9-f07a41f50966"
      },
      "execution_count": 56,
      "outputs": [
        {
          "output_type": "execute_result",
          "data": {
            "text/plain": [
              "5235    RT JhaSanjay Dear ArvindKejriwal Ji Let ’ clea...\n",
              "1642    RT chitraSD Jogging RahulGandhi ’ memory famil...\n",
              "7922    RT THEBAMNETWORK FOLLOW TaraRRichter ... TOP I...\n",
              "1210    RT yuvadesh Disgusting disgusting disgusting T...\n",
              "2132    RT iamnikhilnanda Reckless defamation malignin...\n",
              "Name: clean_text, dtype: object"
            ]
          },
          "metadata": {},
          "execution_count": 56
        }
      ]
    },
    {
      "cell_type": "code",
      "source": [
        "print(\"printing some random reviews\")\n",
        "print(9, data['clean_text'].values[9])\n",
        "print(34, data['clean_text'].values[34])\n",
        "print(147, data['clean_text'].values[147])"
      ],
      "metadata": {
        "colab": {
          "base_uri": "https://localhost:8080/"
        },
        "id": "diEEZSZoEuUA",
        "outputId": "d3b4d05a-1915-48e3-87d4-6119fb26031a"
      },
      "execution_count": 57,
      "outputs": [
        {
          "output_type": "stream",
          "name": "stdout",
          "text": [
            "printing some random reviews\n",
            "9 RT farooq_pm Killing innocent civilian LoC reprehensible In fact 's act targeted killing something trigger-hap…\n",
            "34 RT AapkaCharul Is kind comment women acceptable MamataOfficial priyankagandhi priyankac19 dimpleyadav Sheh…\n",
            "147 RT sachinsingh1010 75 year old Govindraj killed praising Modi incident took place near Orthanadu village Tanjore TamilNadu G…\n"
          ]
        }
      ]
    },
    {
      "cell_type": "code",
      "source": [
        "# Combining all the above stundents \n",
        "from tqdm import tqdm\n",
        "def preprocess_text(text_data):\n",
        "    preprocessed_text = []\n",
        "    # tqdm is for printing the status bar\n",
        "    for sentance in tqdm(text_data):\n",
        "        sent = decontracted(sentance)\n",
        "        sent = sent.replace('\\\\r', ' ')\n",
        "        sent = sent.replace('\\\\n', ' ')\n",
        "        sent = sent.replace('\\\\\"', ' ')\n",
        "        sent = re.sub('[^A-Za-z0-9]+', ' ', sent)\n",
        "        # https://gist.github.com/sebleier/554280\n",
        "        sent = ' '.join(e for e in sent.split() if e.lower() not in stopwords)\n",
        "        preprocessed_text.append(sent.lower().strip())\n",
        "    return preprocessed_text"
      ],
      "metadata": {
        "id": "E5aLvYF1EwcJ"
      },
      "execution_count": 58,
      "outputs": []
    },
    {
      "cell_type": "code",
      "source": [
        "preprocessed_text = preprocess_text(data['clean_text'].values)"
      ],
      "metadata": {
        "colab": {
          "base_uri": "https://localhost:8080/"
        },
        "id": "YNKojnNjExo4",
        "outputId": "9f01f8a4-6a8d-4a1a-fcec-9a42cda76271"
      },
      "execution_count": 59,
      "outputs": [
        {
          "output_type": "stream",
          "name": "stderr",
          "text": [
            "100%|██████████| 10000/10000 [00:00<00:00, 13875.29it/s]\n"
          ]
        }
      ]
    },
    {
      "cell_type": "code",
      "source": [
        "print(\"printing some random reviews\")\n",
        "print(9, preprocessed_text[9])\n",
        "print(34, preprocessed_text[34])\n",
        "print(147, preprocessed_text[147])"
      ],
      "metadata": {
        "colab": {
          "base_uri": "https://localhost:8080/"
        },
        "id": "JzS7zASrE00J",
        "outputId": "ae85675d-acdd-4c75-bfe3-5427e1ca0953"
      },
      "execution_count": 60,
      "outputs": [
        {
          "output_type": "stream",
          "name": "stdout",
          "text": [
            "printing some random reviews\n",
            "9 rt farooq pm killing innocent civilian loc reprehensible fact act targeted killing something trigger hap\n",
            "34 rt aapkacharul kind comment women acceptable mamataofficial priyankagandhi priyankac19 dimpleyadav sheh\n",
            "147 rt sachinsingh1010 75 year old govindraj killed praising modi incident took place near orthanadu village tanjore tamilnadu g\n"
          ]
        }
      ]
    },
    {
      "cell_type": "code",
      "source": [
        "y=np.array(data['polarity'])"
      ],
      "metadata": {
        "id": "uCizSo5EE3OQ"
      },
      "execution_count": 61,
      "outputs": []
    },
    {
      "cell_type": "code",
      "source": [
        "from sklearn.model_selection import train_test_split\n",
        "#Breaking into Train and test\n",
        "X_train, X_test, y_train, y_test = train_test_split(preprocessed_text, y, test_size=0.3,stratify=y ,random_state=42)"
      ],
      "metadata": {
        "id": "MEHYUVi5E4rw"
      },
      "execution_count": 62,
      "outputs": []
    },
    {
      "cell_type": "markdown",
      "source": [
        "#Featuraization : Bag of Words"
      ],
      "metadata": {
        "id": "l9ZojIFZE56f"
      }
    },
    {
      "cell_type": "code",
      "source": [
        "import pickle"
      ],
      "metadata": {
        "id": "Fw6qVllsE8qQ"
      },
      "execution_count": 63,
      "outputs": []
    },
    {
      "cell_type": "code",
      "source": [
        "from sklearn import preprocessing\n",
        "\n",
        "count_vect = CountVectorizer()\n",
        "count_trans = count_vect.fit(X_train) # fit has to happen only on train data\n",
        "\n",
        "# Dump the file\n",
        "pickle.dump(count_trans, open(\"count_vect.pkl\", \"wb\"))\n",
        "\n",
        "\n",
        "# Testing phase\n",
        "count = pickle.load(open(\"count_vect.pkl\", 'rb'))\n",
        "\n",
        "# we use the fitted CountVectorizer to convert the text to vector\n",
        "X_train_count =count.transform(X_train)\n",
        "X_test_count = count.transform(X_test)\n",
        "\n",
        "#Normalize Data\n",
        "X_train_count = preprocessing.normalize(X_train_count)\n",
        "print(\"Train Data Size: \",X_train_count.shape)\n",
        "\n",
        "#Normalize Data\n",
        "X_test_count = preprocessing.normalize(X_test_count)\n",
        "print(\"Test Data Size: \",X_test_count.shape)"
      ],
      "metadata": {
        "colab": {
          "base_uri": "https://localhost:8080/"
        },
        "id": "_y1debjaE_Xb",
        "outputId": "7dff57a7-ba13-427a-eb0a-21a633ceb1b3"
      },
      "execution_count": 64,
      "outputs": [
        {
          "output_type": "stream",
          "name": "stdout",
          "text": [
            "Train Data Size:  (7000, 6494)\n",
            "Test Data Size:  (3000, 6494)\n"
          ]
        }
      ]
    },
    {
      "cell_type": "code",
      "source": [],
      "metadata": {
        "id": "F25h7BB-FBR5"
      },
      "execution_count": 64,
      "outputs": []
    },
    {
      "cell_type": "markdown",
      "source": [
        "#Random Forest with BOW"
      ],
      "metadata": {
        "id": "xuxJzlV6FC0B"
      }
    },
    {
      "cell_type": "code",
      "source": [
        "from sklearn.metrics import accuracy_score , f1_score"
      ],
      "metadata": {
        "id": "d2HliRBfFEfA"
      },
      "execution_count": 65,
      "outputs": []
    },
    {
      "cell_type": "code",
      "source": [
        "from sklearn.ensemble import RandomForestClassifier\n",
        "from sklearn.metrics import accuracy_score\n",
        "from sklearn.model_selection import GridSearchCV\n",
        "from sklearn.metrics import roc_curve\n",
        "\n",
        "dept = [1, 5, 10, 50, 100, 500, 1000]\n",
        "n_estimators =  [20, 40, 60, 80, 100, 120]\n",
        "\n",
        "param_grid={'n_estimators':n_estimators , 'max_depth':dept}\n",
        "clf = RandomForestClassifier()\n",
        "model = GridSearchCV(clf,param_grid,scoring='accuracy',n_jobs=-1,cv=3)\n",
        "model.fit(X_train_count,y_train)\n",
        "print(\"optimal n_estimators\",model.best_estimator_.n_estimators)\n",
        "print(\"optimal max_depth\",model.best_estimator_.max_depth)"
      ],
      "metadata": {
        "colab": {
          "base_uri": "https://localhost:8080/"
        },
        "id": "8-DzeAwnFGsY",
        "outputId": "ac328022-d626-4214-e398-d002d462d2a6"
      },
      "execution_count": 66,
      "outputs": [
        {
          "output_type": "stream",
          "name": "stdout",
          "text": [
            "optimal n_estimators 60\n",
            "optimal max_depth 1000\n"
          ]
        }
      ]
    },
    {
      "cell_type": "code",
      "source": [
        "optimal_max_depth = model.best_estimator_.max_depth\n",
        "optimal_n_estimators = model.best_estimator_.n_estimators"
      ],
      "metadata": {
        "id": "OBUXczjjFJdD"
      },
      "execution_count": 67,
      "outputs": []
    },
    {
      "cell_type": "code",
      "source": [
        "#training our model for max_depth=100,n_estimators = 120\n",
        "clf = RandomForestClassifier(max_depth = optimal_max_depth,n_estimators = optimal_n_estimators)\n",
        "clf.fit(X_train_count,y_train)\n",
        "\n",
        "import pickle\n",
        "filename = 'election_RF_bow.pkl'\n",
        "pickle.dump(clf, open(filename, 'wb'))\n",
        "\n",
        "pred_test =clf.predict(X_test_count)\n",
        "test_accuracy = accuracy_score(y_test, pred_test)\n",
        "pred_train = clf.predict(X_train_count)\n",
        "train_accuracy =accuracy_score(y_train,pred_train)\n",
        "#test_f1_score = f1_score((y_test, pred_test))\n",
        "\n",
        "\n",
        "print(\"Accuracy on Test data is \" +str(test_accuracy))\n",
        "print(\"Accuracy on Train data is \"+str(train_accuracy))\n",
        "\n",
        "print(\"---------------------------\")\n",
        "\n",
        "\n",
        "# Code for drawing seaborn heatmaps\n",
        "\n",
        "df_heatmap = pd.DataFrame(confusion_matrix(y_test, pred_test.round()) )\n",
        "fig = plt.figure( )\n",
        "heatmap = sns.heatmap(df_heatmap, annot=True, fmt=\"d\")\n"
      ],
      "metadata": {
        "id": "w9ToZa4HFWiQ",
        "colab": {
          "base_uri": "https://localhost:8080/",
          "height": 317
        },
        "outputId": "4e9ff086-5151-4fb2-9ee3-c14396fa27de"
      },
      "execution_count": 68,
      "outputs": [
        {
          "output_type": "stream",
          "name": "stdout",
          "text": [
            "Accuracy on Test data is 0.987\n",
            "Accuracy on Train data is 1.0\n",
            "---------------------------\n"
          ]
        },
        {
          "output_type": "display_data",
          "data": {
            "text/plain": [
              "<Figure size 432x288 with 2 Axes>"
            ],
            "image/png": "[encoded data removed]"
          },
          "metadata": {
            "needs_background": "light"
          }
        }
      ]
    },
    {
      "cell_type": "code",
      "source": [
        "results=pd.DataFrame(columns=['Featuraization', 'Model' , 'Train-AUC', 'Test-AUC' ])\n",
        "new = ['BOW','Random Forest',1.0,0.9923]\n",
        "results.loc[0] = new"
      ],
      "metadata": {
        "id": "eYJciE_vFgnJ"
      },
      "execution_count": 69,
      "outputs": []
    },
    {
      "cell_type": "markdown",
      "source": [
        "#Liner SVM with BOW"
      ],
      "metadata": {
        "id": "4o5sO7cTFiRL"
      }
    },
    {
      "cell_type": "code",
      "source": [
        "from sklearn.linear_model import SGDClassifier\n",
        "from sklearn.calibration import CalibratedClassifierCV\n",
        "from sklearn.metrics import roc_auc_score\n",
        "import math\n",
        "\n",
        "alpha = [10000,1000,100,10,1,0.1,0.01,0.001,0.0001]\n",
        "\n",
        "train_auc = []\n",
        "test_auc = []\n",
        "\n",
        "for i in alpha:\n",
        "    model = SGDClassifier(alpha=i, loss = \"hinge\") \n",
        "    model.fit(X_train_count,y_train)\n",
        "    prob_cv = model.predict(X_test_count)\n",
        "    test_auc.append(accuracy_score(y_test,prob_cv))\n",
        "    prob_train = model.predict(X_train_count)\n",
        "    train_auc.append(roc_auc_score(y_train,prob_train))\n",
        "optimal_alpha= alpha[test_auc.index(max(test_auc))]\n",
        "alpha=[math.log(x) for x in alpha]\n",
        "\n",
        "#plot auc vs alpha\n",
        "x = plt.subplot( )\n",
        "x.plot(alpha, train_auc, label='Train Accuracy')\n",
        "x.plot(alpha, test_auc, label='Test Accuracy')\n",
        "plt.title('Accuracy vs hyperparameter')\n",
        "plt.xlabel('alpha')\n",
        "plt.ylabel('Accuracy')\n",
        "x.legend()\n",
        "plt.show()\n",
        "\n",
        "print('optimal alpha for which auc is maximum : ',optimal_alpha)"
      ],
      "metadata": {
        "colab": {
          "base_uri": "https://localhost:8080/",
          "height": 312
        },
        "id": "2xhYeRgaFrdn",
        "outputId": "bb259883-cfae-49c9-e8f7-0cc7e67050d2"
      },
      "execution_count": 70,
      "outputs": [
        {
          "output_type": "display_data",
          "data": {
            "text/plain": [
              "<Figure size 432x288 with 1 Axes>"
            ],
            "image/png": "[encoded data removed]"
          },
          "metadata": {
            "needs_background": "light"
          }
        },
        {
          "output_type": "stream",
          "name": "stdout",
          "text": [
            "optimal alpha for which auc is maximum :  0.0001\n"
          ]
        }
      ]
    },
    {
      "cell_type": "code",
      "source": [
        "#Testing AUC on Test data\n",
        "svm = SGDClassifier(alpha=optimal_alpha)\n",
        "\n",
        "svm.fit(X_train_count,y_train)\n",
        "\n",
        "filename =  'election_svm_bow.pkl'\n",
        "pickle.dump(svm, open(filename, 'wb'))\n",
        "\n",
        "pred_test = svm.predict(X_test_count)\n",
        "test_accuracy = accuracy_score(y_test, pred_test)\n",
        "pred_train = svm.predict(X_train_count)\n",
        "train_accuracy = accuracy_score(y_train,pred_train) \n",
        "\n",
        "\n",
        "\n",
        "\n",
        "print(\"AUC on Test data is \" +str(test_accuracy))\n",
        "print(\"AUC on Train data is \" +str(train_accuracy))\n",
        "\n",
        "print(\"---------------------------\")\n",
        "\n",
        "# Code for drawing seaborn heatmaps\n",
        "from sklearn.metrics import confusion_matrix\n",
        "\n",
        "df_heatmap = pd.DataFrame(confusion_matrix(y_test, pred_test.round()) )\n",
        "fig = plt.figure( )\n",
        "heatmap = sns.heatmap(df_heatmap, annot=True, fmt=\"d\")"
      ],
      "metadata": {
        "colab": {
          "base_uri": "https://localhost:8080/",
          "height": 317
        },
        "id": "sMgJaq87FuOy",
        "outputId": "29363a09-3bfd-4fcc-cf01-dc953ea913b5"
      },
      "execution_count": 71,
      "outputs": [
        {
          "output_type": "stream",
          "name": "stdout",
          "text": [
            "AUC on Test data is 0.9853333333333333\n",
            "AUC on Train data is 0.9981428571428571\n",
            "---------------------------\n"
          ]
        },
        {
          "output_type": "display_data",
          "data": {
            "text/plain": [
              "<Figure size 432x288 with 2 Axes>"
            ],
            "image/png": "[encoded data removed]"
          },
          "metadata": {
            "needs_background": "light"
          }
        }
      ]
    },
    {
      "cell_type": "code",
      "source": [
        "original =  [1 if x==1 else 0 for x in y_test[:20]]\n",
        "predicted = svm.predict(X_test_count[:20])\n",
        "pred = []\n",
        "\n",
        "for i in predicted:\n",
        "  if i == 1:\n",
        "    k = 1\n",
        "    pred.append(k)\n",
        "  else:\n",
        "    k = 0\n",
        "    pred.append(k)\n",
        "# Creating a data frame\n",
        "df = pd.DataFrame(list(zip(X_test[:20],original, pred,)), \n",
        "               columns =['Text','original_Classlabel', 'predicted_classlebel'])\n",
        "df"
      ],
      "metadata": {
        "colab": {
          "base_uri": "https://localhost:8080/",
          "height": 676
        },
        "id": "CAXb-k08FwRo",
        "outputId": "f19d1166-3211-415a-b820-2a261fb4c62e"
      },
      "execution_count": 72,
      "outputs": [
        {
          "output_type": "execute_result",
          "data": {
            "text/plain": [
              "                                                 Text  original_Classlabel  \\\n",
              "0   rahulgandhi pappupinkyinkerala 65 cr youngeste...                    1   \n",
              "1   follow drjimmystar top influencer celebrity pr...                    1   \n",
              "2   rt sachinsingh1010 75 year old govindraj kille...                    0   \n",
              "3   vote voice voices struggled abhoganyay right v...                    1   \n",
              "4   editorspicks sc notice rahulgandhi missing mig...                    1   \n",
              "5   rt incgujarat watch live cp rahulgandhi congre...                    1   \n",
              "6   rt firstpost icymi rahulgandhi repeated flippa...                    1   \n",
              "7   rt mohitbharatiya no one wants see army corrup...                    0   \n",
              "8   rt ratansharda55 escape amethi planned advance...                    1   \n",
              "9   rt theleaflet rafale rahulgandhi narendramodi ...                    0   \n",
              "10  rt chitrasd jogging rahulgandhi memory family ...                    0   \n",
              "11  bjp going win election margin 272 seats along ...                    1   \n",
              "12  rahul gandhi accused supreme court misquoting ...                    0   \n",
              "13  rt httweets top story https co o0dfqoytun righ...                    1   \n",
              "14  rt incgujarat watch live congress president ra...                    1   \n",
              "15  rt devendrapai shame urmilamatondkar shame rah...                    1   \n",
              "16  congress exposed lingayat amp veerashaiva comm...                    1   \n",
              "17  rt chitrasd video rounds social media rahulgan...                    1   \n",
              "18  rt sbajpai2806 credibility rahulgandhi lower w...                    0   \n",
              "19  cabinet approves extension new urea policy til...                    1   \n",
              "\n",
              "    predicted_classlebel  \n",
              "0                      1  \n",
              "1                      1  \n",
              "2                      0  \n",
              "3                      1  \n",
              "4                      1  \n",
              "5                      1  \n",
              "6                      1  \n",
              "7                      0  \n",
              "8                      1  \n",
              "9                      0  \n",
              "10                     0  \n",
              "11                     1  \n",
              "12                     0  \n",
              "13                     1  \n",
              "14                     1  \n",
              "15                     1  \n",
              "16                     1  \n",
              "17                     1  \n",
              "18                     0  \n",
              "19                     1  "
            ],
            "text/html": [
              "\n",
              "  <div id=\"df-8d92d517-6c77-49ae-a621-e9e872167b68\">\n",
              "    <div class=\"colab-df-container\">\n",
              "      <div>\n",
              "<style scoped>\n",
              "    .dataframe tbody tr th:only-of-type {\n",
              "        vertical-align: middle;\n",
              "    }\n",
              "\n",
              "    .dataframe tbody tr th {\n",
              "        vertical-align: top;\n",
              "    }\n",
              "\n",
              "    .dataframe thead th {\n",
              "        text-align: right;\n",
              "    }\n",
              "</style>\n",
              "<table border=\"1\" class=\"dataframe\">\n",
              "  <thead>\n",
              "    <tr style=\"text-align: right;\">\n",
              "      <th></th>\n",
              "      <th>Text</th>\n",
              "      <th>original_Classlabel</th>\n",
              "      <th>predicted_classlebel</th>\n",
              "    </tr>\n",
              "  </thead>\n",
              "  <tbody>\n",
              "    <tr>\n",
              "      <th>0</th>\n",
              "      <td>rahulgandhi pappupinkyinkerala 65 cr youngeste...</td>\n",
              "      <td>1</td>\n",
              "      <td>1</td>\n",
              "    </tr>\n",
              "    <tr>\n",
              "      <th>1</th>\n",
              "      <td>follow drjimmystar top influencer celebrity pr...</td>\n",
              "      <td>1</td>\n",
              "      <td>1</td>\n",
              "    </tr>\n",
              "    <tr>\n",
              "      <th>2</th>\n",
              "      <td>rt sachinsingh1010 75 year old govindraj kille...</td>\n",
              "      <td>0</td>\n",
              "      <td>0</td>\n",
              "    </tr>\n",
              "    <tr>\n",
              "      <th>3</th>\n",
              "      <td>vote voice voices struggled abhoganyay right v...</td>\n",
              "      <td>1</td>\n",
              "      <td>1</td>\n",
              "    </tr>\n",
              "    <tr>\n",
              "      <th>4</th>\n",
              "      <td>editorspicks sc notice rahulgandhi missing mig...</td>\n",
              "      <td>1</td>\n",
              "      <td>1</td>\n",
              "    </tr>\n",
              "    <tr>\n",
              "      <th>5</th>\n",
              "      <td>rt incgujarat watch live cp rahulgandhi congre...</td>\n",
              "      <td>1</td>\n",
              "      <td>1</td>\n",
              "    </tr>\n",
              "    <tr>\n",
              "      <th>6</th>\n",
              "      <td>rt firstpost icymi rahulgandhi repeated flippa...</td>\n",
              "      <td>1</td>\n",
              "      <td>1</td>\n",
              "    </tr>\n",
              "    <tr>\n",
              "      <th>7</th>\n",
              "      <td>rt mohitbharatiya no one wants see army corrup...</td>\n",
              "      <td>0</td>\n",
              "      <td>0</td>\n",
              "    </tr>\n",
              "    <tr>\n",
              "      <th>8</th>\n",
              "      <td>rt ratansharda55 escape amethi planned advance...</td>\n",
              "      <td>1</td>\n",
              "      <td>1</td>\n",
              "    </tr>\n",
              "    <tr>\n",
              "      <th>9</th>\n",
              "      <td>rt theleaflet rafale rahulgandhi narendramodi ...</td>\n",
              "      <td>0</td>\n",
              "      <td>0</td>\n",
              "    </tr>\n",
              "    <tr>\n",
              "      <th>10</th>\n",
              "      <td>rt chitrasd jogging rahulgandhi memory family ...</td>\n",
              "      <td>0</td>\n",
              "      <td>0</td>\n",
              "    </tr>\n",
              "    <tr>\n",
              "      <th>11</th>\n",
              "      <td>bjp going win election margin 272 seats along ...</td>\n",
              "      <td>1</td>\n",
              "      <td>1</td>\n",
              "    </tr>\n",
              "    <tr>\n",
              "      <th>12</th>\n",
              "      <td>rahul gandhi accused supreme court misquoting ...</td>\n",
              "      <td>0</td>\n",
              "      <td>0</td>\n",
              "    </tr>\n",
              "    <tr>\n",
              "      <th>13</th>\n",
              "      <td>rt httweets top story https co o0dfqoytun righ...</td>\n",
              "      <td>1</td>\n",
              "      <td>1</td>\n",
              "    </tr>\n",
              "    <tr>\n",
              "      <th>14</th>\n",
              "      <td>rt incgujarat watch live congress president ra...</td>\n",
              "      <td>1</td>\n",
              "      <td>1</td>\n",
              "    </tr>\n",
              "    <tr>\n",
              "      <th>15</th>\n",
              "      <td>rt devendrapai shame urmilamatondkar shame rah...</td>\n",
              "      <td>1</td>\n",
              "      <td>1</td>\n",
              "    </tr>\n",
              "    <tr>\n",
              "      <th>16</th>\n",
              "      <td>congress exposed lingayat amp veerashaiva comm...</td>\n",
              "      <td>1</td>\n",
              "      <td>1</td>\n",
              "    </tr>\n",
              "    <tr>\n",
              "      <th>17</th>\n",
              "      <td>rt chitrasd video rounds social media rahulgan...</td>\n",
              "      <td>1</td>\n",
              "      <td>1</td>\n",
              "    </tr>\n",
              "    <tr>\n",
              "      <th>18</th>\n",
              "      <td>rt sbajpai2806 credibility rahulgandhi lower w...</td>\n",
              "      <td>0</td>\n",
              "      <td>0</td>\n",
              "    </tr>\n",
              "    <tr>\n",
              "      <th>19</th>\n",
              "      <td>cabinet approves extension new urea policy til...</td>\n",
              "      <td>1</td>\n",
              "      <td>1</td>\n",
              "    </tr>\n",
              "  </tbody>\n",
              "</table>\n",
              "</div>\n",
              "      <button class=\"colab-df-convert\" onclick=\"convertToInteractive('df-8d92d517-6c77-49ae-a621-e9e872167b68')\"\n",
              "              title=\"Convert this dataframe to an interactive table.\"\n",
              "              style=\"display:none;\">\n",
              "        \n",
              "  <svg xmlns=\"http://www.w3.org/2000/svg\" height=\"24px\"viewBox=\"0 0 24 24\"\n",
              "       width=\"24px\">\n",
              "    <path d=\"M0 0h24v24H0V0z\" fill=\"none\"/>\n",
              "    <path d=\"M18.56 5.44l.94 2.06.94-2.06 2.06-.94-2.06-.94-.94-2.06-.94 2.06-2.06.94zm-11 1L8.5 8.5l.94-2.06 2.06-.94-2.06-.94L8.5 2.5l-.94 2.06-2.06.94zm10 10l.94 2.06.94-2.06 2.06-.94-2.06-.94-.94-2.06-.94 2.06-2.06.94z\"/><path d=\"M17.41 7.96l-1.37-1.37c-.4-.4-.92-.59-1.43-.59-.52 0-1.04.2-1.43.59L10.3 9.45l-7.72 7.72c-.78.78-.78 2.05 0 2.83L4 21.41c.39.39.9.59 1.41.59.51 0 1.02-.2 1.41-.59l7.78-7.78 2.81-2.81c.8-.78.8-2.07 0-2.86zM5.41 20L4 18.59l7.72-7.72 1.47 1.35L5.41 20z\"/>\n",
              "  </svg>\n",
              "      </button>\n",
              "      \n",
              "  <style>\n",
              "    .colab-df-container {\n",
              "      display:flex;\n",
              "      flex-wrap:wrap;\n",
              "      gap: 12px;\n",
              "    }\n",
              "\n",
              "    .colab-df-convert {\n",
              "      background-color: #E8F0FE;\n",
              "      border: none;\n",
              "      border-radius: 50%;\n",
              "      cursor: pointer;\n",
              "      display: none;\n",
              "      fill: #1967D2;\n",
              "      height: 32px;\n",
              "      padding: 0 0 0 0;\n",
              "      width: 32px;\n",
              "    }\n",
              "\n",
              "    .colab-df-convert:hover {\n",
              "      background-color: #E2EBFA;\n",
              "      box-shadow: 0px 1px 2px rgba(60, 64, 67, 0.3), 0px 1px 3px 1px rgba(60, 64, 67, 0.15);\n",
              "      fill: #174EA6;\n",
              "    }\n",
              "\n",
              "    [theme=dark] .colab-df-convert {\n",
              "      background-color: #3B4455;\n",
              "      fill: #D2E3FC;\n",
              "    }\n",
              "\n",
              "    [theme=dark] .colab-df-convert:hover {\n",
              "      background-color: #434B5C;\n",
              "      box-shadow: 0px 1px 3px 1px rgba(0, 0, 0, 0.15);\n",
              "      filter: drop-shadow(0px 1px 2px rgba(0, 0, 0, 0.3));\n",
              "      fill: #FFFFFF;\n",
              "    }\n",
              "  </style>\n",
              "\n",
              "      <script>\n",
              "        const buttonEl =\n",
              "          document.querySelector('#df-8d92d517-6c77-49ae-a621-e9e872167b68 button.colab-df-convert');\n",
              "        buttonEl.style.display =\n",
              "          google.colab.kernel.accessAllowed ? 'block' : 'none';\n",
              "\n",
              "        async function convertToInteractive(key) {\n",
              "          const element = document.querySelector('#df-8d92d517-6c77-49ae-a621-e9e872167b68');\n",
              "          const dataTable =\n",
              "            await google.colab.kernel.invokeFunction('convertToInteractive',\n",
              "                                                     [key], {});\n",
              "          if (!dataTable) return;\n",
              "\n",
              "          const docLinkHtml = 'Like what you see? Visit the ' +\n",
              "            '<a target=\"_blank\" href=https://colab.research.google.com/notebooks/data_table.ipynb>data table notebook</a>'\n",
              "            + ' to learn more about interactive tables.';\n",
              "          element.innerHTML = '';\n",
              "          dataTable['output_type'] = 'display_data';\n",
              "          await google.colab.output.renderOutput(dataTable, element);\n",
              "          const docLink = document.createElement('div');\n",
              "          docLink.innerHTML = docLinkHtml;\n",
              "          element.appendChild(docLink);\n",
              "        }\n",
              "      </script>\n",
              "    </div>\n",
              "  </div>\n",
              "  "
            ]
          },
          "metadata": {},
          "execution_count": 72
        }
      ]
    },
    {
      "cell_type": "code",
      "source": [
        "new = ['BOW','SVM',0.9883,0.9988]\n",
        "results.loc[2] = new"
      ],
      "metadata": {
        "id": "74cg1T1gFyNV"
      },
      "execution_count": 73,
      "outputs": []
    },
    {
      "cell_type": "markdown",
      "source": [
        "#Performance Table"
      ],
      "metadata": {
        "id": "d08gkiX2F1au"
      }
    },
    {
      "cell_type": "code",
      "source": [
        "results"
      ],
      "metadata": {
        "colab": {
          "base_uri": "https://localhost:8080/",
          "height": 112
        },
        "id": "tObL7FT8F2uf",
        "outputId": "241edb54-9671-49d2-8bd5-91f162dee046"
      },
      "execution_count": 74,
      "outputs": [
        {
          "output_type": "execute_result",
          "data": {
            "text/plain": [
              "  Featuraization          Model  Train-AUC  Test-AUC\n",
              "0            BOW  Random Forest     1.0000    0.9923\n",
              "2            BOW            SVM     0.9883    0.9988"
            ],
            "text/html": [
              "\n",
              "  <div id=\"df-bc792356-deac-476b-9921-db28c4a4ed3a\">\n",
              "    <div class=\"colab-df-container\">\n",
              "      <div>\n",
              "<style scoped>\n",
              "    .dataframe tbody tr th:only-of-type {\n",
              "        vertical-align: middle;\n",
              "    }\n",
              "\n",
              "    .dataframe tbody tr th {\n",
              "        vertical-align: top;\n",
              "    }\n",
              "\n",
              "    .dataframe thead th {\n",
              "        text-align: right;\n",
              "    }\n",
              "</style>\n",
              "<table border=\"1\" class=\"dataframe\">\n",
              "  <thead>\n",
              "    <tr style=\"text-align: right;\">\n",
              "      <th></th>\n",
              "      <th>Featuraization</th>\n",
              "      <th>Model</th>\n",
              "      <th>Train-AUC</th>\n",
              "      <th>Test-AUC</th>\n",
              "    </tr>\n",
              "  </thead>\n",
              "  <tbody>\n",
              "    <tr>\n",
              "      <th>0</th>\n",
              "      <td>BOW</td>\n",
              "      <td>Random Forest</td>\n",
              "      <td>1.0000</td>\n",
              "      <td>0.9923</td>\n",
              "    </tr>\n",
              "    <tr>\n",
              "      <th>2</th>\n",
              "      <td>BOW</td>\n",
              "      <td>SVM</td>\n",
              "      <td>0.9883</td>\n",
              "      <td>0.9988</td>\n",
              "    </tr>\n",
              "  </tbody>\n",
              "</table>\n",
              "</div>\n",
              "      <button class=\"colab-df-convert\" onclick=\"convertToInteractive('df-bc792356-deac-476b-9921-db28c4a4ed3a')\"\n",
              "              title=\"Convert this dataframe to an interactive table.\"\n",
              "              style=\"display:none;\">\n",
              "        \n",
              "  <svg xmlns=\"http://www.w3.org/2000/svg\" height=\"24px\"viewBox=\"0 0 24 24\"\n",
              "       width=\"24px\">\n",
              "    <path d=\"M0 0h24v24H0V0z\" fill=\"none\"/>\n",
              "    <path d=\"M18.56 5.44l.94 2.06.94-2.06 2.06-.94-2.06-.94-.94-2.06-.94 2.06-2.06.94zm-11 1L8.5 8.5l.94-2.06 2.06-.94-2.06-.94L8.5 2.5l-.94 2.06-2.06.94zm10 10l.94 2.06.94-2.06 2.06-.94-2.06-.94-.94-2.06-.94 2.06-2.06.94z\"/><path d=\"M17.41 7.96l-1.37-1.37c-.4-.4-.92-.59-1.43-.59-.52 0-1.04.2-1.43.59L10.3 9.45l-7.72 7.72c-.78.78-.78 2.05 0 2.83L4 21.41c.39.39.9.59 1.41.59.51 0 1.02-.2 1.41-.59l7.78-7.78 2.81-2.81c.8-.78.8-2.07 0-2.86zM5.41 20L4 18.59l7.72-7.72 1.47 1.35L5.41 20z\"/>\n",
              "  </svg>\n",
              "      </button>\n",
              "      \n",
              "  <style>\n",
              "    .colab-df-container {\n",
              "      display:flex;\n",
              "      flex-wrap:wrap;\n",
              "      gap: 12px;\n",
              "    }\n",
              "\n",
              "    .colab-df-convert {\n",
              "      background-color: #E8F0FE;\n",
              "      border: none;\n",
              "      border-radius: 50%;\n",
              "      cursor: pointer;\n",
              "      display: none;\n",
              "      fill: #1967D2;\n",
              "      height: 32px;\n",
              "      padding: 0 0 0 0;\n",
              "      width: 32px;\n",
              "    }\n",
              "\n",
              "    .colab-df-convert:hover {\n",
              "      background-color: #E2EBFA;\n",
              "      box-shadow: 0px 1px 2px rgba(60, 64, 67, 0.3), 0px 1px 3px 1px rgba(60, 64, 67, 0.15);\n",
              "      fill: #174EA6;\n",
              "    }\n",
              "\n",
              "    [theme=dark] .colab-df-convert {\n",
              "      background-color: #3B4455;\n",
              "      fill: #D2E3FC;\n",
              "    }\n",
              "\n",
              "    [theme=dark] .colab-df-convert:hover {\n",
              "      background-color: #434B5C;\n",
              "      box-shadow: 0px 1px 3px 1px rgba(0, 0, 0, 0.15);\n",
              "      filter: drop-shadow(0px 1px 2px rgba(0, 0, 0, 0.3));\n",
              "      fill: #FFFFFF;\n",
              "    }\n",
              "  </style>\n",
              "\n",
              "      <script>\n",
              "        const buttonEl =\n",
              "          document.querySelector('#df-bc792356-deac-476b-9921-db28c4a4ed3a button.colab-df-convert');\n",
              "        buttonEl.style.display =\n",
              "          google.colab.kernel.accessAllowed ? 'block' : 'none';\n",
              "\n",
              "        async function convertToInteractive(key) {\n",
              "          const element = document.querySelector('#df-bc792356-deac-476b-9921-db28c4a4ed3a');\n",
              "          const dataTable =\n",
              "            await google.colab.kernel.invokeFunction('convertToInteractive',\n",
              "                                                     [key], {});\n",
              "          if (!dataTable) return;\n",
              "\n",
              "          const docLinkHtml = 'Like what you see? Visit the ' +\n",
              "            '<a target=\"_blank\" href=https://colab.research.google.com/notebooks/data_table.ipynb>data table notebook</a>'\n",
              "            + ' to learn more about interactive tables.';\n",
              "          element.innerHTML = '';\n",
              "          dataTable['output_type'] = 'display_data';\n",
              "          await google.colab.output.renderOutput(dataTable, element);\n",
              "          const docLink = document.createElement('div');\n",
              "          docLink.innerHTML = docLinkHtml;\n",
              "          element.appendChild(docLink);\n",
              "        }\n",
              "      </script>\n",
              "    </div>\n",
              "  </div>\n",
              "  "
            ]
          },
          "metadata": {},
          "execution_count": 74
        }
      ]
    }
  ]
}