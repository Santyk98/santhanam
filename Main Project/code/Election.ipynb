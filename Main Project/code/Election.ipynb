{
  "nbformat": 4,
  "nbformat_minor": 0,
  "metadata": {
    "colab": {
      "provenance": [],
      "collapsed_sections": [],
      "authorship_tag": "ABX9TyODvnxYn7RhvY8XxI2pdtxl",
      "include_colab_link": true
    },
    "kernelspec": {
      "name": "python3",
      "display_name": "Python 3"
    },
    "language_info": {
      "name": "python"
    }
  },
  "cells": [
    {
      "cell_type": "markdown",
      "metadata": {
        "id": "view-in-github",
        "colab_type": "text"
      },
      "source": [
        "<a href=\"https://colab.research.google.com/github/Santyk98/santhanam/blob/main/Main%20Project/code/Election.ipynb\" target=\"_parent\"><img src=\"https://colab.research.google.com/assets/colab-badge.svg\" alt=\"Open In Colab\"/></a>"
      ]
    },
    {
      "cell_type": "code",
      "execution_count": 1,
      "metadata": {
        "id": "L9xp3qkeD7_G"
      },
      "outputs": [],
      "source": [
        "import pandas as pd\n",
        "import seaborn as sns\n",
        "from sklearn.svm import SVC\n",
        "from sklearn.naive_bayes import GaussianNB\n",
        "from sklearn.model_selection import train_test_split\n",
        "import numpy as np\n",
        "from sklearn.preprocessing import LabelEncoder\n",
        "from sklearn.ensemble import RandomForestClassifier\n",
        "import matplotlib.pyplot as plt\n",
        "from sklearn.metrics import confusion_matrix\n",
        "import sklearn\n",
        "from sklearn.feature_extraction.text import TfidfVectorizer, CountVectorizer\n",
        "\n",
        "import random"
      ]
    },
    {
      "cell_type": "code",
      "source": [
        "data = pd.read_csv('election.csv')"
      ],
      "metadata": {
        "id": "PTKNg6QfEIMZ"
      },
      "execution_count": 2,
      "outputs": []
    },
    {
      "cell_type": "code",
      "source": [
        "data.head()"
      ],
      "metadata": {
        "colab": {
          "base_uri": "https://localhost:8080/",
          "height": 206
        },
        "id": "Xk9grc-nETHp",
        "outputId": "05dc79be-be8d-423e-9e96-66cc45ff9969"
      },
      "execution_count": 3,
      "outputs": [
        {
          "output_type": "execute_result",
          "data": {
            "text/plain": [
              "                    id                                         clean_text  \\\n",
              "0          1.11772E+18  RT chitraSD Jogging RahulGandhi ’ memory famil...   \n",
              "1  1118061974292533249  AAP INC want alliance stop division Anti-Modi ...   \n",
              "2  1117870131969810432  RT pankaj_shankar She priyankagandhi slams Mod...   \n",
              "3           1.1177E+18  RT airnewsalerts SC says RahulGandhi 's remark...   \n",
              "4  1117850484327366656  RT sachinsingh1010 75 year old Govindraj kille...   \n",
              "\n",
              "   polarity                place  \n",
              "0         0               Madras  \n",
              "1         0                  NaN  \n",
              "2         0                  NaN  \n",
              "3         0            New Delhi  \n",
              "4         0  New Delhi Varanasi   "
            ],
            "text/html": [
              "\n",
              "  <div id=\"df-f4824bbc-94f7-43d0-9f61-86df850377ab\">\n",
              "    <div class=\"colab-df-container\">\n",
              "      <div>\n",
              "<style scoped>\n",
              "    .dataframe tbody tr th:only-of-type {\n",
              "        vertical-align: middle;\n",
              "    }\n",
              "\n",
              "    .dataframe tbody tr th {\n",
              "        vertical-align: top;\n",
              "    }\n",
              "\n",
              "    .dataframe thead th {\n",
              "        text-align: right;\n",
              "    }\n",
              "</style>\n",
              "<table border=\"1\" class=\"dataframe\">\n",
              "  <thead>\n",
              "    <tr style=\"text-align: right;\">\n",
              "      <th></th>\n",
              "      <th>id</th>\n",
              "      <th>clean_text</th>\n",
              "      <th>polarity</th>\n",
              "      <th>place</th>\n",
              "    </tr>\n",
              "  </thead>\n",
              "  <tbody>\n",
              "    <tr>\n",
              "      <th>0</th>\n",
              "      <td>1.11772E+18</td>\n",
              "      <td>RT chitraSD Jogging RahulGandhi ’ memory famil...</td>\n",
              "      <td>0</td>\n",
              "      <td>Madras</td>\n",
              "    </tr>\n",
              "    <tr>\n",
              "      <th>1</th>\n",
              "      <td>1118061974292533249</td>\n",
              "      <td>AAP INC want alliance stop division Anti-Modi ...</td>\n",
              "      <td>0</td>\n",
              "      <td>NaN</td>\n",
              "    </tr>\n",
              "    <tr>\n",
              "      <th>2</th>\n",
              "      <td>1117870131969810432</td>\n",
              "      <td>RT pankaj_shankar She priyankagandhi slams Mod...</td>\n",
              "      <td>0</td>\n",
              "      <td>NaN</td>\n",
              "    </tr>\n",
              "    <tr>\n",
              "      <th>3</th>\n",
              "      <td>1.1177E+18</td>\n",
              "      <td>RT airnewsalerts SC says RahulGandhi 's remark...</td>\n",
              "      <td>0</td>\n",
              "      <td>New Delhi</td>\n",
              "    </tr>\n",
              "    <tr>\n",
              "      <th>4</th>\n",
              "      <td>1117850484327366656</td>\n",
              "      <td>RT sachinsingh1010 75 year old Govindraj kille...</td>\n",
              "      <td>0</td>\n",
              "      <td>New Delhi Varanasi</td>\n",
              "    </tr>\n",
              "  </tbody>\n",
              "</table>\n",
              "</div>\n",
              "      <button class=\"colab-df-convert\" onclick=\"convertToInteractive('df-f4824bbc-94f7-43d0-9f61-86df850377ab')\"\n",
              "              title=\"Convert this dataframe to an interactive table.\"\n",
              "              style=\"display:none;\">\n",
              "        \n",
              "  <svg xmlns=\"http://www.w3.org/2000/svg\" height=\"24px\"viewBox=\"0 0 24 24\"\n",
              "       width=\"24px\">\n",
              "    <path d=\"M0 0h24v24H0V0z\" fill=\"none\"/>\n",
              "    <path d=\"M18.56 5.44l.94 2.06.94-2.06 2.06-.94-2.06-.94-.94-2.06-.94 2.06-2.06.94zm-11 1L8.5 8.5l.94-2.06 2.06-.94-2.06-.94L8.5 2.5l-.94 2.06-2.06.94zm10 10l.94 2.06.94-2.06 2.06-.94-2.06-.94-.94-2.06-.94 2.06-2.06.94z\"/><path d=\"M17.41 7.96l-1.37-1.37c-.4-.4-.92-.59-1.43-.59-.52 0-1.04.2-1.43.59L10.3 9.45l-7.72 7.72c-.78.78-.78 2.05 0 2.83L4 21.41c.39.39.9.59 1.41.59.51 0 1.02-.2 1.41-.59l7.78-7.78 2.81-2.81c.8-.78.8-2.07 0-2.86zM5.41 20L4 18.59l7.72-7.72 1.47 1.35L5.41 20z\"/>\n",
              "  </svg>\n",
              "      </button>\n",
              "      \n",
              "  <style>\n",
              "    .colab-df-container {\n",
              "      display:flex;\n",
              "      flex-wrap:wrap;\n",
              "      gap: 12px;\n",
              "    }\n",
              "\n",
              "    .colab-df-convert {\n",
              "      background-color: #E8F0FE;\n",
              "      border: none;\n",
              "      border-radius: 50%;\n",
              "      cursor: pointer;\n",
              "      display: none;\n",
              "      fill: #1967D2;\n",
              "      height: 32px;\n",
              "      padding: 0 0 0 0;\n",
              "      width: 32px;\n",
              "    }\n",
              "\n",
              "    .colab-df-convert:hover {\n",
              "      background-color: #E2EBFA;\n",
              "      box-shadow: 0px 1px 2px rgba(60, 64, 67, 0.3), 0px 1px 3px 1px rgba(60, 64, 67, 0.15);\n",
              "      fill: #174EA6;\n",
              "    }\n",
              "\n",
              "    [theme=dark] .colab-df-convert {\n",
              "      background-color: #3B4455;\n",
              "      fill: #D2E3FC;\n",
              "    }\n",
              "\n",
              "    [theme=dark] .colab-df-convert:hover {\n",
              "      background-color: #434B5C;\n",
              "      box-shadow: 0px 1px 3px 1px rgba(0, 0, 0, 0.15);\n",
              "      filter: drop-shadow(0px 1px 2px rgba(0, 0, 0, 0.3));\n",
              "      fill: #FFFFFF;\n",
              "    }\n",
              "  </style>\n",
              "\n",
              "      <script>\n",
              "        const buttonEl =\n",
              "          document.querySelector('#df-f4824bbc-94f7-43d0-9f61-86df850377ab button.colab-df-convert');\n",
              "        buttonEl.style.display =\n",
              "          google.colab.kernel.accessAllowed ? 'block' : 'none';\n",
              "\n",
              "        async function convertToInteractive(key) {\n",
              "          const element = document.querySelector('#df-f4824bbc-94f7-43d0-9f61-86df850377ab');\n",
              "          const dataTable =\n",
              "            await google.colab.kernel.invokeFunction('convertToInteractive',\n",
              "                                                     [key], {});\n",
              "          if (!dataTable) return;\n",
              "\n",
              "          const docLinkHtml = 'Like what you see? Visit the ' +\n",
              "            '<a target=\"_blank\" href=https://colab.research.google.com/notebooks/data_table.ipynb>data table notebook</a>'\n",
              "            + ' to learn more about interactive tables.';\n",
              "          element.innerHTML = '';\n",
              "          dataTable['output_type'] = 'display_data';\n",
              "          await google.colab.output.renderOutput(dataTable, element);\n",
              "          const docLink = document.createElement('div');\n",
              "          docLink.innerHTML = docLinkHtml;\n",
              "          element.appendChild(docLink);\n",
              "        }\n",
              "      </script>\n",
              "    </div>\n",
              "  </div>\n",
              "  "
            ]
          },
          "metadata": {},
          "execution_count": 3
        }
      ]
    },
    {
      "cell_type": "code",
      "source": [
        "data.shape"
      ],
      "metadata": {
        "colab": {
          "base_uri": "https://localhost:8080/"
        },
        "id": "tCSMuwasEVLy",
        "outputId": "f66f0546-77d2-41d8-e7e2-02cb671e408e"
      },
      "execution_count": 4,
      "outputs": [
        {
          "output_type": "execute_result",
          "data": {
            "text/plain": [
              "(10365, 4)"
            ]
          },
          "metadata": {},
          "execution_count": 4
        }
      ]
    },
    {
      "cell_type": "code",
      "source": [
        "#Check the data\n",
        "data.info()\n"
      ],
      "metadata": {
        "colab": {
          "base_uri": "https://localhost:8080/"
        },
        "id": "-z86TNeEEW6z",
        "outputId": "640437da-9ea7-49f6-ad5e-0c56f4bcbb48"
      },
      "execution_count": 5,
      "outputs": [
        {
          "output_type": "stream",
          "name": "stdout",
          "text": [
            "<class 'pandas.core.frame.DataFrame'>\n",
            "RangeIndex: 10365 entries, 0 to 10364\n",
            "Data columns (total 4 columns):\n",
            " #   Column      Non-Null Count  Dtype \n",
            "---  ------      --------------  ----- \n",
            " 0   id          10365 non-null  object\n",
            " 1   clean_text  10365 non-null  object\n",
            " 2   polarity    10365 non-null  int64 \n",
            " 3   place       7311 non-null   object\n",
            "dtypes: int64(1), object(3)\n",
            "memory usage: 324.0+ KB\n"
          ]
        }
      ]
    },
    {
      "cell_type": "code",
      "source": [
        "#Check the missing values in the data\n",
        "data.isnull().sum()"
      ],
      "metadata": {
        "colab": {
          "base_uri": "https://localhost:8080/"
        },
        "id": "_19Y_RgYEYsJ",
        "outputId": "f2ca6cab-9de7-4388-9db9-97c713edf617"
      },
      "execution_count": 6,
      "outputs": [
        {
          "output_type": "execute_result",
          "data": {
            "text/plain": [
              "id               0\n",
              "clean_text       0\n",
              "polarity         0\n",
              "place         3054\n",
              "dtype: int64"
            ]
          },
          "metadata": {},
          "execution_count": 6
        }
      ]
    },
    {
      "cell_type": "code",
      "source": [
        "data['polarity'].value_counts()"
      ],
      "metadata": {
        "colab": {
          "base_uri": "https://localhost:8080/"
        },
        "id": "axVq0nXgEalq",
        "outputId": "c9a4eb26-ba99-4b33-cde6-22297f6a2c63"
      },
      "execution_count": 7,
      "outputs": [
        {
          "output_type": "execute_result",
          "data": {
            "text/plain": [
              "0    5787\n",
              "1    4578\n",
              "Name: polarity, dtype: int64"
            ]
          },
          "metadata": {},
          "execution_count": 7
        }
      ]
    },
    {
      "cell_type": "code",
      "source": [
        "# Prepare Data\n",
        "df = data.groupby('polarity').size().reset_index(name='counts')\n",
        "n = df['polarity'].unique().__len__()+1\n",
        "all_colors = list(plt.cm.colors.cnames.keys())\n",
        "random.seed(100)\n",
        "c = random.choices(all_colors, k=n)\n",
        "\n",
        "# Plot Bars\n",
        "plt.figure(figsize=(6,6), dpi= 80)\n",
        "plt.bar(df['polarity'], df['counts'], color=c, width=.5)\n",
        "for i, val in enumerate(df['counts'].values):\n",
        "    plt.text(i, val, float(val), horizontalalignment='center', verticalalignment='bottom', fontdict={'fontweight':500, 'size':12})\n",
        "\n",
        "# Decoration\n",
        "plt.gca().set_xticklabels(df['polarity'], rotation=60, horizontalalignment= 'right')\n",
        "\n",
        "plt.ylim(0, 6000)\n",
        "plt.show()"
      ],
      "metadata": {
        "colab": {
          "base_uri": "https://localhost:8080/",
          "height": 418
        },
        "id": "vE2f75R6Ecm5",
        "outputId": "6f93f199-6c43-4ec1-b7b4-0d1ced68ebc4"
      },
      "execution_count": 8,
      "outputs": [
        {
          "output_type": "display_data",
          "data": {
            "text/plain": [
              "<Figure size 480x480 with 1 Axes>"
            ],
            "image/png": "[encoded data removed]"
          },
          "metadata": {
            "needs_background": "light"
          }
        }
      ]
    },
    {
      "cell_type": "code",
      "source": [
        "data['polarity'].value_counts()"
      ],
      "metadata": {
        "colab": {
          "base_uri": "https://localhost:8080/"
        },
        "id": "nyujWQYNEeHK",
        "outputId": "d77cb008-18e5-478b-f196-0705c1caea89"
      },
      "execution_count": 9,
      "outputs": [
        {
          "output_type": "execute_result",
          "data": {
            "text/plain": [
              "0    5787\n",
              "1    4578\n",
              "Name: polarity, dtype: int64"
            ]
          },
          "metadata": {},
          "execution_count": 9
        }
      ]
    },
    {
      "cell_type": "code",
      "source": [
        "from sklearn.utils import resample\n",
        "# Separate majority and minority classes\n",
        "df_majority = data[data['polarity']== 0]\n",
        "df_minority = data[data['polarity']== 1]\n",
        " \n",
        "# Downsample majority class and upsample the minority class\n",
        "df_minority_upsampled = resample(df_minority, replace=True,n_samples=5000,random_state=123) \n",
        "df_majority_downsampled = resample(df_majority, replace=False,n_samples=5000,random_state=123) \n",
        " \n",
        "# Combine minority class with downsampled majority class\n",
        "df_upsampled = pd.concat([df_minority_upsampled, df_majority_downsampled])\n",
        " \n",
        "# Display new class counts\n",
        "df_upsampled['polarity'].value_counts()"
      ],
      "metadata": {
        "colab": {
          "base_uri": "https://localhost:8080/"
        },
        "id": "VRKWd7GXEhKY",
        "outputId": "6888bdc4-795c-4d03-e790-51cb4a47b467"
      },
      "execution_count": 10,
      "outputs": [
        {
          "output_type": "execute_result",
          "data": {
            "text/plain": [
              "1    5000\n",
              "0    5000\n",
              "Name: polarity, dtype: int64"
            ]
          },
          "metadata": {},
          "execution_count": 10
        }
      ]
    },
    {
      "cell_type": "code",
      "source": [
        "# shuffle the DataFrame rows \n",
        "data= df_upsampled.sample(frac = 1)"
      ],
      "metadata": {
        "id": "tvaMJZbNEira"
      },
      "execution_count": 11,
      "outputs": []
    },
    {
      "cell_type": "code",
      "source": [
        "# Prepare Data\n",
        "df = data.groupby('polarity').size().reset_index(name='counts')\n",
        "n = df['polarity'].unique().__len__()+1\n",
        "all_colors = list(plt.cm.colors.cnames.keys())\n",
        "random.seed(100)\n",
        "c = random.choices(all_colors, k=n)\n",
        "\n",
        "# Plot Bars\n",
        "plt.figure(figsize=(6,6), dpi= 80)\n",
        "plt.bar(df['polarity'], df['counts'], color=c, width=.5)\n",
        "for i, val in enumerate(df['counts'].values):\n",
        "    plt.text(i, val, float(val), horizontalalignment='center', verticalalignment='bottom', fontdict={'fontweight':500, 'size':12})\n",
        "\n",
        "# Decoration\n",
        "plt.gca().set_xticklabels(df['polarity'], rotation=60, horizontalalignment= 'right')\n",
        "\n",
        "plt.ylim(0, 6000)\n",
        "plt.show()"
      ],
      "metadata": {
        "colab": {
          "base_uri": "https://localhost:8080/",
          "height": 418
        },
        "id": "Zk-xk5L6EmLx",
        "outputId": "2fa74421-8b7a-4cea-e92c-ff4de7762906"
      },
      "execution_count": 12,
      "outputs": [
        {
          "output_type": "display_data",
          "data": {
            "text/plain": [
              "<Figure size 480x480 with 1 Axes>"
            ],
            "image/png": "[encoded data removed]"
          },
          "metadata": {
            "needs_background": "light"
          }
        }
      ]
    },
    {
      "cell_type": "code",
      "source": [
        "# https://stackoverflow.com/a/47091490/4084039\n",
        "import re\n",
        "\n",
        "def decontracted(phrase):\n",
        "    # specific\n",
        "    phrase = re.sub(r\"won't\", \"will not\", phrase)\n",
        "    phrase = re.sub(r\"can\\'t\", \"can not\", phrase)\n",
        "\n",
        "    # general\n",
        "    phrase = re.sub(r\"n\\'t\", \" not\", phrase)\n",
        "    phrase = re.sub(r\"\\'re\", \" are\", phrase)\n",
        "    phrase = re.sub(r\"\\'s\", \" is\", phrase)\n",
        "    phrase = re.sub(r\"\\'d\", \" would\", phrase)\n",
        "    phrase = re.sub(r\"\\'ll\", \" will\", phrase)\n",
        "    phrase = re.sub(r\"\\'t\", \" not\", phrase)\n",
        "    phrase = re.sub(r\"\\'ve\", \" have\", phrase)\n",
        "    phrase = re.sub(r\"\\'m\", \" am\", phrase)\n",
        "    return phrase"
      ],
      "metadata": {
        "id": "e4gSOrDbEno4"
      },
      "execution_count": 13,
      "outputs": []
    },
    {
      "cell_type": "code",
      "source": [
        "# we are removing the words from the stop words list: 'no', 'nor', 'not'\n",
        "stopwords= ['i', 'me', 'my', 'myself', 'we', 'our', 'ours', 'ourselves', 'you', \"you're\", \"you've\",\\\n",
        "            \"you'll\", \"you'd\", 'your', 'yours', 'yourself', 'yourselves', 'he', 'him', 'his', 'himself', \\\n",
        "            'she', \"she's\", 'her', 'hers', 'herself', 'it', \"it's\", 'its', 'itself', 'they', 'them', 'their',\\\n",
        "            'theirs', 'themselves', 'what', 'which', 'who', 'whom', 'this', 'that', \"that'll\", 'these', 'those', \\\n",
        "            'am', 'is', 'are', 'was', 'were', 'be', 'been', 'being', 'have', 'has', 'had', 'having', 'do', 'does', \\\n",
        "            'did', 'doing', 'a', 'an', 'the', 'and', 'but', 'if', 'or', 'because', 'as', 'until', 'while', 'of', \\\n",
        "            'at', 'by', 'for', 'with', 'about', 'against', 'between', 'into', 'through', 'during', 'before', 'after',\\\n",
        "            'above', 'below', 'to', 'from', 'up', 'down', 'in', 'out', 'on', 'off', 'over', 'under', 'again', 'further',\\\n",
        "            'then', 'once', 'here', 'there', 'when', 'where', 'why', 'how', 'all', 'any', 'both', 'each', 'few', 'more',\\\n",
        "            'most', 'other', 'some', 'such', 'only', 'own', 'same', 'so', 'than', 'too', 'very', \\\n",
        "            's', 't', 'can', 'will', 'just', 'don', \"don't\", 'should', \"should've\", 'now', 'd', 'll', 'm', 'o', 're', \\\n",
        "            've', 'y', 'ain', 'aren', \"aren't\", 'couldn', \"couldn't\", 'didn', \"didn't\", 'doesn', \"doesn't\", 'hadn',\\\n",
        "            \"hadn't\", 'hasn', \"hasn't\", 'haven', \"haven't\", 'isn', \"isn't\", 'ma', 'mightn', \"mightn't\", 'mustn',\\\n",
        "            \"mustn't\", 'needn', \"needn't\", 'shan', \"shan't\", 'shouldn', \"shouldn't\", 'wasn', \"wasn't\", 'weren', \"weren't\", \\\n",
        "            'won', \"won't\", 'wouldn', \"wouldn't\"]"
      ],
      "metadata": {
        "id": "Jk3KajwzErRh"
      },
      "execution_count": 14,
      "outputs": []
    },
    {
      "cell_type": "code",
      "source": [
        "data['clean_text'].head(5)"
      ],
      "metadata": {
        "colab": {
          "base_uri": "https://localhost:8080/"
        },
        "id": "g9R3fr8HEs9J",
        "outputId": "77a25ef7-d8a9-497f-8d62-f72178184537"
      },
      "execution_count": 15,
      "outputs": [
        {
          "output_type": "execute_result",
          "data": {
            "text/plain": [
              "8432     BJP preparing another Balakote like strike vot...\n",
              "9448     RT JhaSanjay Dear ArvindKejriwal Ji Let ’ clea...\n",
              "10220    RT sachinsingh1010 75 year old Govindraj kille...\n",
              "762      RT chitraSD There 's video rounds social media...\n",
              "1516     RT mohitbharatiya_ No one wants see “ Army Cor...\n",
              "Name: clean_text, dtype: object"
            ]
          },
          "metadata": {},
          "execution_count": 15
        }
      ]
    },
    {
      "cell_type": "code",
      "source": [
        "print(\"printing some random reviews\")\n",
        "print(9, data['clean_text'].values[9])\n",
        "print(34, data['clean_text'].values[34])\n",
        "print(147, data['clean_text'].values[147])"
      ],
      "metadata": {
        "colab": {
          "base_uri": "https://localhost:8080/"
        },
        "id": "diEEZSZoEuUA",
        "outputId": "60665374-5d37-4d45-883d-e4eacff26455"
      },
      "execution_count": 16,
      "outputs": [
        {
          "output_type": "stream",
          "name": "stdout",
          "text": [
            "printing some random reviews\n",
            "9 RT INCDamanAndDiu Door door campaigning Diu Congress INC Daman amp Diu Candidate Shri.Ketan Patel https //t.co/cKrLd4flWI\n",
            "34 EVM tampering Why Cong assembly polls asks Shah AmitShah Kodinar Gujarat INC… https //t.co/6QQGQOWsSp\n",
            "147 RT dharmvirjangra9 ShockingNews Ex-Congress MLAs write RahulGandhi openly demanding tickets Muslims population is…\n"
          ]
        }
      ]
    },
    {
      "cell_type": "code",
      "source": [
        "# Combining all the above stundents \n",
        "from tqdm import tqdm\n",
        "def preprocess_text(text_data):\n",
        "    preprocessed_text = []\n",
        "    # tqdm is for printing the status bar\n",
        "    for sentance in tqdm(text_data):\n",
        "        sent = decontracted(sentance)\n",
        "        sent = sent.replace('\\\\r', ' ')\n",
        "        sent = sent.replace('\\\\n', ' ')\n",
        "        sent = sent.replace('\\\\\"', ' ')\n",
        "        sent = re.sub('[^A-Za-z0-9]+', ' ', sent)\n",
        "        # https://gist.github.com/sebleier/554280\n",
        "        sent = ' '.join(e for e in sent.split() if e.lower() not in stopwords)\n",
        "        preprocessed_text.append(sent.lower().strip())\n",
        "    return preprocessed_text"
      ],
      "metadata": {
        "id": "E5aLvYF1EwcJ"
      },
      "execution_count": 17,
      "outputs": []
    },
    {
      "cell_type": "code",
      "source": [
        "preprocessed_text = preprocess_text(data['clean_text'].values)"
      ],
      "metadata": {
        "colab": {
          "base_uri": "https://localhost:8080/"
        },
        "id": "YNKojnNjExo4",
        "outputId": "85edb9e0-5987-45f2-f2d4-a9e7e1846189"
      },
      "execution_count": 18,
      "outputs": [
        {
          "output_type": "stream",
          "name": "stderr",
          "text": [
            "100%|██████████| 10000/10000 [00:00<00:00, 13846.95it/s]\n"
          ]
        }
      ]
    },
    {
      "cell_type": "code",
      "source": [
        "print(\"printing some random reviews\")\n",
        "print(9, preprocessed_text[9])\n",
        "print(34, preprocessed_text[34])\n",
        "print(147, preprocessed_text[147])"
      ],
      "metadata": {
        "colab": {
          "base_uri": "https://localhost:8080/"
        },
        "id": "JzS7zASrE00J",
        "outputId": "3818cfd9-24be-4dee-abb1-680d562cdba5"
      },
      "execution_count": 19,
      "outputs": [
        {
          "output_type": "stream",
          "name": "stdout",
          "text": [
            "printing some random reviews\n",
            "9 rt incdamananddiu door door campaigning diu congress inc daman amp diu candidate shri ketan patel https co ckrld4flwi\n",
            "34 evm tampering cong assembly polls asks shah amitshah kodinar gujarat inc https co 6qqgqowssp\n",
            "147 rt dharmvirjangra9 shockingnews ex congress mlas write rahulgandhi openly demanding tickets muslims population\n"
          ]
        }
      ]
    },
    {
      "cell_type": "code",
      "source": [
        "y=np.array(data['polarity'])"
      ],
      "metadata": {
        "id": "uCizSo5EE3OQ"
      },
      "execution_count": 20,
      "outputs": []
    },
    {
      "cell_type": "code",
      "source": [
        "from sklearn.model_selection import train_test_split\n",
        "#Breaking into Train and test\n",
        "X_train, X_test, y_train, y_test = train_test_split(preprocessed_text, y, test_size=0.3,stratify=y ,random_state=42)"
      ],
      "metadata": {
        "id": "MEHYUVi5E4rw"
      },
      "execution_count": 21,
      "outputs": []
    },
    {
      "cell_type": "markdown",
      "source": [
        "#Featuraization : Bag of Words"
      ],
      "metadata": {
        "id": "l9ZojIFZE56f"
      }
    },
    {
      "cell_type": "code",
      "source": [
        "import pickle"
      ],
      "metadata": {
        "id": "Fw6qVllsE8qQ"
      },
      "execution_count": 22,
      "outputs": []
    },
    {
      "cell_type": "code",
      "source": [
        "from sklearn import preprocessing\n",
        "\n",
        "count_vect = CountVectorizer()\n",
        "count_trans = count_vect.fit(X_train) # fit has to happen only on train data\n",
        "\n",
        "# Dump the file\n",
        "pickle.dump(count_trans, open(\"count_vect.pkl\", \"wb\"))\n",
        "\n",
        "\n",
        "# Testing phase\n",
        "count = pickle.load(open(\"count_vect.pkl\", 'rb'))\n",
        "\n",
        "# we use the fitted CountVectorizer to convert the text to vector\n",
        "X_train_count =count.transform(X_train)\n",
        "X_test_count = count.transform(X_test)\n",
        "\n",
        "#Normalize Data\n",
        "X_train_count = preprocessing.normalize(X_train_count)\n",
        "print(\"Train Data Size: \",X_train_count.shape)\n",
        "\n",
        "#Normalize Data\n",
        "X_test_count = preprocessing.normalize(X_test_count)\n",
        "print(\"Test Data Size: \",X_test_count.shape)"
      ],
      "metadata": {
        "colab": {
          "base_uri": "https://localhost:8080/"
        },
        "id": "_y1debjaE_Xb",
        "outputId": "bf36f1b9-b783-43c1-dc92-8a89e199d5c8"
      },
      "execution_count": 23,
      "outputs": [
        {
          "output_type": "stream",
          "name": "stdout",
          "text": [
            "Train Data Size:  (7000, 6465)\n",
            "Test Data Size:  (3000, 6465)\n"
          ]
        }
      ]
    },
    {
      "cell_type": "code",
      "source": [],
      "metadata": {
        "id": "F25h7BB-FBR5"
      },
      "execution_count": null,
      "outputs": []
    },
    {
      "cell_type": "markdown",
      "source": [
        "#Random Forest with BOW"
      ],
      "metadata": {
        "id": "xuxJzlV6FC0B"
      }
    },
    {
      "cell_type": "code",
      "source": [
        "from sklearn.metrics import accuracy_score , f1_score"
      ],
      "metadata": {
        "id": "d2HliRBfFEfA"
      },
      "execution_count": 24,
      "outputs": []
    },
    {
      "cell_type": "code",
      "source": [
        "from sklearn.ensemble import RandomForestClassifier\n",
        "from sklearn.metrics import accuracy_score\n",
        "from sklearn.model_selection import GridSearchCV\n",
        "from sklearn.metrics import roc_curve\n",
        "\n",
        "dept = [1, 5, 10, 50, 100, 500, 1000]\n",
        "n_estimators =  [20, 40, 60, 80, 100, 120]\n",
        "\n",
        "param_grid={'n_estimators':n_estimators , 'max_depth':dept}\n",
        "clf = RandomForestClassifier()\n",
        "model = GridSearchCV(clf,param_grid,scoring='accuracy',n_jobs=-1,cv=3)\n",
        "model.fit(X_train_count,y_train)\n",
        "print(\"optimal n_estimators\",model.best_estimator_.n_estimators)\n",
        "print(\"optimal max_depth\",model.best_estimator_.max_depth)"
      ],
      "metadata": {
        "colab": {
          "base_uri": "https://localhost:8080/"
        },
        "id": "8-DzeAwnFGsY",
        "outputId": "ee2c120a-b2fe-4685-c46c-5bb71d0e9ffb"
      },
      "execution_count": 25,
      "outputs": [
        {
          "output_type": "stream",
          "name": "stdout",
          "text": [
            "optimal n_estimators 80\n",
            "optimal max_depth 1000\n"
          ]
        }
      ]
    },
    {
      "cell_type": "code",
      "source": [
        "optimal_max_depth = model.best_estimator_.max_depth\n",
        "optimal_n_estimators = model.best_estimator_.n_estimators"
      ],
      "metadata": {
        "id": "OBUXczjjFJdD"
      },
      "execution_count": 27,
      "outputs": []
    },
    {
      "cell_type": "code",
      "source": [
        "#training our model for max_depth=100,n_estimators = 120\n",
        "clf = RandomForestClassifier(max_depth = optimal_max_depth,n_estimators = optimal_n_estimators)\n",
        "clf.fit(X_train_count,y_train)\n",
        "\n",
        "import pickle\n",
        "filename = 'election_RF_bow.pkl'\n",
        "pickle.dump(clf, open(filename, 'wb'))\n",
        "\n",
        "pred_test =clf.predict(X_test_count)\n",
        "test_accuracy = accuracy_score(y_test, pred_test)\n",
        "pred_train = clf.predict(X_train_count)\n",
        "train_accuracy =accuracy_score(y_train,pred_train)\n",
        "#test_f1_score = f1_score((y_test, pred_test))\n",
        "\n",
        "\n",
        "print(\"Accuracy on Test data is \" +str(test_accuracy))\n",
        "print(\"Accuracy on Train data is \"+str(train_accuracy))\n",
        "\n",
        "print(\"---------------------------\")\n",
        "\n",
        "\n",
        "# Code for drawing seaborn heatmaps\n",
        "\n",
        "df_heatmap = pd.DataFrame(confusion_matrix(y_test, pred_test.round()) )\n",
        "fig = plt.figure( )\n",
        "heatmap = sns.heatmap(df_heatmap, annot=True, fmt=\"d\")\n"
      ],
      "metadata": {
        "id": "w9ToZa4HFWiQ"
      },
      "execution_count": 26,
      "outputs": []
    },
    {
      "cell_type": "code",
      "source": [
        "results=pd.DataFrame(columns=['Featuraization', 'Model' , 'Train-AUC', 'Test-AUC' ])\n",
        "new = ['BOW','Random Forest',1.0,0.9923]\n",
        "results.loc[0] = new"
      ],
      "metadata": {
        "id": "eYJciE_vFgnJ"
      },
      "execution_count": 41,
      "outputs": []
    },
    {
      "cell_type": "markdown",
      "source": [
        "#Liner SVM with BOW"
      ],
      "metadata": {
        "id": "4o5sO7cTFiRL"
      }
    },
    {
      "cell_type": "code",
      "source": [
        "from sklearn.linear_model import SGDClassifier\n",
        "from sklearn.calibration import CalibratedClassifierCV\n",
        "from sklearn.metrics import roc_auc_score\n",
        "import math\n",
        "\n",
        "alpha = [10000,1000,100,10,1,0.1,0.01,0.001,0.0001]\n",
        "\n",
        "train_auc = []\n",
        "test_auc = []\n",
        "\n",
        "for i in alpha:\n",
        "    model = SGDClassifier(alpha=i, loss = \"hinge\") \n",
        "    model.fit(X_train_count,y_train)\n",
        "    prob_cv = model.predict(X_test_count)\n",
        "    test_auc.append(accuracy_score(y_test,prob_cv))\n",
        "    prob_train = model.predict(X_train_count)\n",
        "    train_auc.append(roc_auc_score(y_train,prob_train))\n",
        "optimal_alpha= alpha[test_auc.index(max(test_auc))]\n",
        "alpha=[math.log(x) for x in alpha]\n",
        "\n",
        "#plot auc vs alpha\n",
        "x = plt.subplot( )\n",
        "x.plot(alpha, train_auc, label='Train Accuracy')\n",
        "x.plot(alpha, test_auc, label='Test Accuracy')\n",
        "plt.title('Accuracy vs hyperparameter')\n",
        "plt.xlabel('alpha')\n",
        "plt.ylabel('Accuracy')\n",
        "x.legend()\n",
        "plt.show()\n",
        "\n",
        "print('optimal alpha for which auc is maximum : ',optimal_alpha)"
      ],
      "metadata": {
        "colab": {
          "base_uri": "https://localhost:8080/",
          "height": 312
        },
        "id": "2xhYeRgaFrdn",
        "outputId": "7bb94d61-d3f8-404a-bf86-088b8ea72a8f"
      },
      "execution_count": 29,
      "outputs": [
        {
          "output_type": "display_data",
          "data": {
            "text/plain": [
              "<Figure size 432x288 with 1 Axes>"
            ],
            "image/png": "[encoded data removed]"
          },
          "metadata": {
            "needs_background": "light"
          }
        },
        {
          "output_type": "stream",
          "name": "stdout",
          "text": [
            "optimal alpha for which auc is maximum :  0.0001\n"
          ]
        }
      ]
    },
    {
      "cell_type": "code",
      "source": [
        "#Testing AUC on Test data\n",
        "svm = SGDClassifier(alpha=optimal_alpha)\n",
        "\n",
        "svm.fit(X_train_count,y_train)\n",
        "\n",
        "filename =  'election_svm_bow.pkl'\n",
        "pickle.dump(svm, open(filename, 'wb'))\n",
        "\n",
        "pred_test = svm.predict(X_test_count)\n",
        "test_accuracy = accuracy_score(y_test, pred_test)\n",
        "pred_train = svm.predict(X_train_count)\n",
        "train_accuracy = accuracy_score(y_train,pred_train) \n",
        "\n",
        "\n",
        "\n",
        "\n",
        "print(\"AUC on Test data is \" +str(test_accuracy))\n",
        "print(\"AUC on Train data is \" +str(train_accuracy))\n",
        "\n",
        "print(\"---------------------------\")\n",
        "\n",
        "# Code for drawing seaborn heatmaps\n",
        "from sklearn.metrics import confusion_matrix\n",
        "\n",
        "df_heatmap = pd.DataFrame(confusion_matrix(y_test, pred_test.round()) )\n",
        "fig = plt.figure( )\n",
        "heatmap = sns.heatmap(df_heatmap, annot=True, fmt=\"d\")"
      ],
      "metadata": {
        "colab": {
          "base_uri": "https://localhost:8080/",
          "height": 317
        },
        "id": "sMgJaq87FuOy",
        "outputId": "d4714fb9-c64d-4ff0-f33e-7f748683a1d5"
      },
      "execution_count": 30,
      "outputs": [
        {
          "output_type": "stream",
          "name": "stdout",
          "text": [
            "AUC on Test data is 0.99\n",
            "AUC on Train data is 0.9978571428571429\n",
            "---------------------------\n"
          ]
        },
        {
          "output_type": "display_data",
          "data": {
            "text/plain": [
              "<Figure size 432x288 with 2 Axes>"
            ],
            "image/png": "[encoded data removed]"
          },
          "metadata": {
            "needs_background": "light"
          }
        }
      ]
    },
    {
      "cell_type": "code",
      "source": [
        "original =  [1 if x==1 else 0 for x in y_test[:20]]\n",
        "predicted = svm.predict(X_test_count[:20])\n",
        "pred = []\n",
        "\n",
        "for i in predicted:\n",
        "  if i == 1:\n",
        "    k = 1\n",
        "    pred.append(k)\n",
        "  else:\n",
        "    k = 0\n",
        "    pred.append(k)\n",
        "# Creating a data frame\n",
        "df = pd.DataFrame(list(zip(X_test[:20],original, pred,)), \n",
        "               columns =['Text','original_Classlabel', 'predicted_classlebel'])\n",
        "df"
      ],
      "metadata": {
        "colab": {
          "base_uri": "https://localhost:8080/",
          "height": 676
        },
        "id": "CAXb-k08FwRo",
        "outputId": "c73485aa-9c6f-430e-dd2d-7a933730c0b5"
      },
      "execution_count": 31,
      "outputs": [
        {
          "output_type": "execute_result",
          "data": {
            "text/plain": [
              "                                                 Text  original_Classlabel  \\\n",
              "0   editorspicks sc notice rahulgandhi missing mig...                    1   \n",
              "1   rt apnnewsindia ready give four lok sabha seat...                    1   \n",
              "2   rahul gandhi two day kerala tour begin today h...                    0   \n",
              "3   modi chhodke koi dikhta nahi know rahulgandhi ...                    1   \n",
              "4   rt jhasanjay dear arvindkejriwal ji let clean ...                    1   \n",
              "5   rt ratansharda55 escape amethi planned advance...                    1   \n",
              "6   rt ratansharda55 escape amethi planned advance...                    1   \n",
              "7   pm narendra modi biopic screened ec release ht...                    0   \n",
              "8   ranaayyub many politicians allegations corrupt...                    1   \n",
              "9   hd kumaraswamy kumaraswamy supporters never vo...                    0   \n",
              "10  rahulgandhi arvindkejriwal twitter brawl congr...                    0   \n",
              "11  rt httweets top story https co o0dfqoytun righ...                    1   \n",
              "12  waglenikhil congress history cheating oppositi...                    0   \n",
              "13  rt utkarsh aanand supremecourt order rahulgand...                    1   \n",
              "14  devotees modi ji dare debate 15 minutes belove...                    1   \n",
              "15  rt utkarsh aanand supremecourt order rahulgand...                    1   \n",
              "16  rt masalapopstore vote comment chaukidar free ...                    1   \n",
              "17  rt jhasanjay dear arvindkejriwal ji let clean ...                    1   \n",
              "18  senior congress leader manish tewari slammed b...                    0   \n",
              "19  bjp shoe marker beat mla dropped fortunately i...                    1   \n",
              "\n",
              "    predicted_classlebel  \n",
              "0                      1  \n",
              "1                      1  \n",
              "2                      0  \n",
              "3                      1  \n",
              "4                      1  \n",
              "5                      1  \n",
              "6                      1  \n",
              "7                      0  \n",
              "8                      1  \n",
              "9                      0  \n",
              "10                     0  \n",
              "11                     1  \n",
              "12                     0  \n",
              "13                     1  \n",
              "14                     1  \n",
              "15                     1  \n",
              "16                     1  \n",
              "17                     1  \n",
              "18                     0  \n",
              "19                     0  "
            ],
            "text/html": [
              "\n",
              "  <div id=\"df-a932f85b-563b-4387-bc0e-d9b8a79512f9\">\n",
              "    <div class=\"colab-df-container\">\n",
              "      <div>\n",
              "<style scoped>\n",
              "    .dataframe tbody tr th:only-of-type {\n",
              "        vertical-align: middle;\n",
              "    }\n",
              "\n",
              "    .dataframe tbody tr th {\n",
              "        vertical-align: top;\n",
              "    }\n",
              "\n",
              "    .dataframe thead th {\n",
              "        text-align: right;\n",
              "    }\n",
              "</style>\n",
              "<table border=\"1\" class=\"dataframe\">\n",
              "  <thead>\n",
              "    <tr style=\"text-align: right;\">\n",
              "      <th></th>\n",
              "      <th>Text</th>\n",
              "      <th>original_Classlabel</th>\n",
              "      <th>predicted_classlebel</th>\n",
              "    </tr>\n",
              "  </thead>\n",
              "  <tbody>\n",
              "    <tr>\n",
              "      <th>0</th>\n",
              "      <td>editorspicks sc notice rahulgandhi missing mig...</td>\n",
              "      <td>1</td>\n",
              "      <td>1</td>\n",
              "    </tr>\n",
              "    <tr>\n",
              "      <th>1</th>\n",
              "      <td>rt apnnewsindia ready give four lok sabha seat...</td>\n",
              "      <td>1</td>\n",
              "      <td>1</td>\n",
              "    </tr>\n",
              "    <tr>\n",
              "      <th>2</th>\n",
              "      <td>rahul gandhi two day kerala tour begin today h...</td>\n",
              "      <td>0</td>\n",
              "      <td>0</td>\n",
              "    </tr>\n",
              "    <tr>\n",
              "      <th>3</th>\n",
              "      <td>modi chhodke koi dikhta nahi know rahulgandhi ...</td>\n",
              "      <td>1</td>\n",
              "      <td>1</td>\n",
              "    </tr>\n",
              "    <tr>\n",
              "      <th>4</th>\n",
              "      <td>rt jhasanjay dear arvindkejriwal ji let clean ...</td>\n",
              "      <td>1</td>\n",
              "      <td>1</td>\n",
              "    </tr>\n",
              "    <tr>\n",
              "      <th>5</th>\n",
              "      <td>rt ratansharda55 escape amethi planned advance...</td>\n",
              "      <td>1</td>\n",
              "      <td>1</td>\n",
              "    </tr>\n",
              "    <tr>\n",
              "      <th>6</th>\n",
              "      <td>rt ratansharda55 escape amethi planned advance...</td>\n",
              "      <td>1</td>\n",
              "      <td>1</td>\n",
              "    </tr>\n",
              "    <tr>\n",
              "      <th>7</th>\n",
              "      <td>pm narendra modi biopic screened ec release ht...</td>\n",
              "      <td>0</td>\n",
              "      <td>0</td>\n",
              "    </tr>\n",
              "    <tr>\n",
              "      <th>8</th>\n",
              "      <td>ranaayyub many politicians allegations corrupt...</td>\n",
              "      <td>1</td>\n",
              "      <td>1</td>\n",
              "    </tr>\n",
              "    <tr>\n",
              "      <th>9</th>\n",
              "      <td>hd kumaraswamy kumaraswamy supporters never vo...</td>\n",
              "      <td>0</td>\n",
              "      <td>0</td>\n",
              "    </tr>\n",
              "    <tr>\n",
              "      <th>10</th>\n",
              "      <td>rahulgandhi arvindkejriwal twitter brawl congr...</td>\n",
              "      <td>0</td>\n",
              "      <td>0</td>\n",
              "    </tr>\n",
              "    <tr>\n",
              "      <th>11</th>\n",
              "      <td>rt httweets top story https co o0dfqoytun righ...</td>\n",
              "      <td>1</td>\n",
              "      <td>1</td>\n",
              "    </tr>\n",
              "    <tr>\n",
              "      <th>12</th>\n",
              "      <td>waglenikhil congress history cheating oppositi...</td>\n",
              "      <td>0</td>\n",
              "      <td>0</td>\n",
              "    </tr>\n",
              "    <tr>\n",
              "      <th>13</th>\n",
              "      <td>rt utkarsh aanand supremecourt order rahulgand...</td>\n",
              "      <td>1</td>\n",
              "      <td>1</td>\n",
              "    </tr>\n",
              "    <tr>\n",
              "      <th>14</th>\n",
              "      <td>devotees modi ji dare debate 15 minutes belove...</td>\n",
              "      <td>1</td>\n",
              "      <td>1</td>\n",
              "    </tr>\n",
              "    <tr>\n",
              "      <th>15</th>\n",
              "      <td>rt utkarsh aanand supremecourt order rahulgand...</td>\n",
              "      <td>1</td>\n",
              "      <td>1</td>\n",
              "    </tr>\n",
              "    <tr>\n",
              "      <th>16</th>\n",
              "      <td>rt masalapopstore vote comment chaukidar free ...</td>\n",
              "      <td>1</td>\n",
              "      <td>1</td>\n",
              "    </tr>\n",
              "    <tr>\n",
              "      <th>17</th>\n",
              "      <td>rt jhasanjay dear arvindkejriwal ji let clean ...</td>\n",
              "      <td>1</td>\n",
              "      <td>1</td>\n",
              "    </tr>\n",
              "    <tr>\n",
              "      <th>18</th>\n",
              "      <td>senior congress leader manish tewari slammed b...</td>\n",
              "      <td>0</td>\n",
              "      <td>0</td>\n",
              "    </tr>\n",
              "    <tr>\n",
              "      <th>19</th>\n",
              "      <td>bjp shoe marker beat mla dropped fortunately i...</td>\n",
              "      <td>1</td>\n",
              "      <td>0</td>\n",
              "    </tr>\n",
              "  </tbody>\n",
              "</table>\n",
              "</div>\n",
              "      <button class=\"colab-df-convert\" onclick=\"convertToInteractive('df-a932f85b-563b-4387-bc0e-d9b8a79512f9')\"\n",
              "              title=\"Convert this dataframe to an interactive table.\"\n",
              "              style=\"display:none;\">\n",
              "        \n",
              "  <svg xmlns=\"http://www.w3.org/2000/svg\" height=\"24px\"viewBox=\"0 0 24 24\"\n",
              "       width=\"24px\">\n",
              "    <path d=\"M0 0h24v24H0V0z\" fill=\"none\"/>\n",
              "    <path d=\"M18.56 5.44l.94 2.06.94-2.06 2.06-.94-2.06-.94-.94-2.06-.94 2.06-2.06.94zm-11 1L8.5 8.5l.94-2.06 2.06-.94-2.06-.94L8.5 2.5l-.94 2.06-2.06.94zm10 10l.94 2.06.94-2.06 2.06-.94-2.06-.94-.94-2.06-.94 2.06-2.06.94z\"/><path d=\"M17.41 7.96l-1.37-1.37c-.4-.4-.92-.59-1.43-.59-.52 0-1.04.2-1.43.59L10.3 9.45l-7.72 7.72c-.78.78-.78 2.05 0 2.83L4 21.41c.39.39.9.59 1.41.59.51 0 1.02-.2 1.41-.59l7.78-7.78 2.81-2.81c.8-.78.8-2.07 0-2.86zM5.41 20L4 18.59l7.72-7.72 1.47 1.35L5.41 20z\"/>\n",
              "  </svg>\n",
              "      </button>\n",
              "      \n",
              "  <style>\n",
              "    .colab-df-container {\n",
              "      display:flex;\n",
              "      flex-wrap:wrap;\n",
              "      gap: 12px;\n",
              "    }\n",
              "\n",
              "    .colab-df-convert {\n",
              "      background-color: #E8F0FE;\n",
              "      border: none;\n",
              "      border-radius: 50%;\n",
              "      cursor: pointer;\n",
              "      display: none;\n",
              "      fill: #1967D2;\n",
              "      height: 32px;\n",
              "      padding: 0 0 0 0;\n",
              "      width: 32px;\n",
              "    }\n",
              "\n",
              "    .colab-df-convert:hover {\n",
              "      background-color: #E2EBFA;\n",
              "      box-shadow: 0px 1px 2px rgba(60, 64, 67, 0.3), 0px 1px 3px 1px rgba(60, 64, 67, 0.15);\n",
              "      fill: #174EA6;\n",
              "    }\n",
              "\n",
              "    [theme=dark] .colab-df-convert {\n",
              "      background-color: #3B4455;\n",
              "      fill: #D2E3FC;\n",
              "    }\n",
              "\n",
              "    [theme=dark] .colab-df-convert:hover {\n",
              "      background-color: #434B5C;\n",
              "      box-shadow: 0px 1px 3px 1px rgba(0, 0, 0, 0.15);\n",
              "      filter: drop-shadow(0px 1px 2px rgba(0, 0, 0, 0.3));\n",
              "      fill: #FFFFFF;\n",
              "    }\n",
              "  </style>\n",
              "\n",
              "      <script>\n",
              "        const buttonEl =\n",
              "          document.querySelector('#df-a932f85b-563b-4387-bc0e-d9b8a79512f9 button.colab-df-convert');\n",
              "        buttonEl.style.display =\n",
              "          google.colab.kernel.accessAllowed ? 'block' : 'none';\n",
              "\n",
              "        async function convertToInteractive(key) {\n",
              "          const element = document.querySelector('#df-a932f85b-563b-4387-bc0e-d9b8a79512f9');\n",
              "          const dataTable =\n",
              "            await google.colab.kernel.invokeFunction('convertToInteractive',\n",
              "                                                     [key], {});\n",
              "          if (!dataTable) return;\n",
              "\n",
              "          const docLinkHtml = 'Like what you see? Visit the ' +\n",
              "            '<a target=\"_blank\" href=https://colab.research.google.com/notebooks/data_table.ipynb>data table notebook</a>'\n",
              "            + ' to learn more about interactive tables.';\n",
              "          element.innerHTML = '';\n",
              "          dataTable['output_type'] = 'display_data';\n",
              "          await google.colab.output.renderOutput(dataTable, element);\n",
              "          const docLink = document.createElement('div');\n",
              "          docLink.innerHTML = docLinkHtml;\n",
              "          element.appendChild(docLink);\n",
              "        }\n",
              "      </script>\n",
              "    </div>\n",
              "  </div>\n",
              "  "
            ]
          },
          "metadata": {},
          "execution_count": 31
        }
      ]
    },
    {
      "cell_type": "code",
      "source": [
        "new = ['BOW','SVM',0.9883,0.9988]\n",
        "results.loc[2] = new"
      ],
      "metadata": {
        "id": "74cg1T1gFyNV"
      },
      "execution_count": 36,
      "outputs": []
    },
    {
      "cell_type": "markdown",
      "source": [
        "#Performance Table"
      ],
      "metadata": {
        "id": "d08gkiX2F1au"
      }
    },
    {
      "cell_type": "code",
      "source": [
        "results"
      ],
      "metadata": {
        "colab": {
          "base_uri": "https://localhost:8080/",
          "height": 112
        },
        "id": "tObL7FT8F2uf",
        "outputId": "950372c0-594a-4a9b-e586-72352f5f4d43"
      },
      "execution_count": 37,
      "outputs": [
        {
          "output_type": "execute_result",
          "data": {
            "text/plain": [
              "  Featuraization          Model  Train-AUC  Test-AUC\n",
              "0            BOW  Random Forest     1.0000    0.9923\n",
              "2            BOW            SVM     0.9883    0.9988"
            ],
            "text/html": [
              "\n",
              "  <div id=\"df-cec944a1-fab2-4791-a9ed-d2b5faa0d5d9\">\n",
              "    <div class=\"colab-df-container\">\n",
              "      <div>\n",
              "<style scoped>\n",
              "    .dataframe tbody tr th:only-of-type {\n",
              "        vertical-align: middle;\n",
              "    }\n",
              "\n",
              "    .dataframe tbody tr th {\n",
              "        vertical-align: top;\n",
              "    }\n",
              "\n",
              "    .dataframe thead th {\n",
              "        text-align: right;\n",
              "    }\n",
              "</style>\n",
              "<table border=\"1\" class=\"dataframe\">\n",
              "  <thead>\n",
              "    <tr style=\"text-align: right;\">\n",
              "      <th></th>\n",
              "      <th>Featuraization</th>\n",
              "      <th>Model</th>\n",
              "      <th>Train-AUC</th>\n",
              "      <th>Test-AUC</th>\n",
              "    </tr>\n",
              "  </thead>\n",
              "  <tbody>\n",
              "    <tr>\n",
              "      <th>0</th>\n",
              "      <td>BOW</td>\n",
              "      <td>Random Forest</td>\n",
              "      <td>1.0000</td>\n",
              "      <td>0.9923</td>\n",
              "    </tr>\n",
              "    <tr>\n",
              "      <th>2</th>\n",
              "      <td>BOW</td>\n",
              "      <td>SVM</td>\n",
              "      <td>0.9883</td>\n",
              "      <td>0.9988</td>\n",
              "    </tr>\n",
              "  </tbody>\n",
              "</table>\n",
              "</div>\n",
              "      <button class=\"colab-df-convert\" onclick=\"convertToInteractive('df-cec944a1-fab2-4791-a9ed-d2b5faa0d5d9')\"\n",
              "              title=\"Convert this dataframe to an interactive table.\"\n",
              "              style=\"display:none;\">\n",
              "        \n",
              "  <svg xmlns=\"http://www.w3.org/2000/svg\" height=\"24px\"viewBox=\"0 0 24 24\"\n",
              "       width=\"24px\">\n",
              "    <path d=\"M0 0h24v24H0V0z\" fill=\"none\"/>\n",
              "    <path d=\"M18.56 5.44l.94 2.06.94-2.06 2.06-.94-2.06-.94-.94-2.06-.94 2.06-2.06.94zm-11 1L8.5 8.5l.94-2.06 2.06-.94-2.06-.94L8.5 2.5l-.94 2.06-2.06.94zm10 10l.94 2.06.94-2.06 2.06-.94-2.06-.94-.94-2.06-.94 2.06-2.06.94z\"/><path d=\"M17.41 7.96l-1.37-1.37c-.4-.4-.92-.59-1.43-.59-.52 0-1.04.2-1.43.59L10.3 9.45l-7.72 7.72c-.78.78-.78 2.05 0 2.83L4 21.41c.39.39.9.59 1.41.59.51 0 1.02-.2 1.41-.59l7.78-7.78 2.81-2.81c.8-.78.8-2.07 0-2.86zM5.41 20L4 18.59l7.72-7.72 1.47 1.35L5.41 20z\"/>\n",
              "  </svg>\n",
              "      </button>\n",
              "      \n",
              "  <style>\n",
              "    .colab-df-container {\n",
              "      display:flex;\n",
              "      flex-wrap:wrap;\n",
              "      gap: 12px;\n",
              "    }\n",
              "\n",
              "    .colab-df-convert {\n",
              "      background-color: #E8F0FE;\n",
              "      border: none;\n",
              "      border-radius: 50%;\n",
              "      cursor: pointer;\n",
              "      display: none;\n",
              "      fill: #1967D2;\n",
              "      height: 32px;\n",
              "      padding: 0 0 0 0;\n",
              "      width: 32px;\n",
              "    }\n",
              "\n",
              "    .colab-df-convert:hover {\n",
              "      background-color: #E2EBFA;\n",
              "      box-shadow: 0px 1px 2px rgba(60, 64, 67, 0.3), 0px 1px 3px 1px rgba(60, 64, 67, 0.15);\n",
              "      fill: #174EA6;\n",
              "    }\n",
              "\n",
              "    [theme=dark] .colab-df-convert {\n",
              "      background-color: #3B4455;\n",
              "      fill: #D2E3FC;\n",
              "    }\n",
              "\n",
              "    [theme=dark] .colab-df-convert:hover {\n",
              "      background-color: #434B5C;\n",
              "      box-shadow: 0px 1px 3px 1px rgba(0, 0, 0, 0.15);\n",
              "      filter: drop-shadow(0px 1px 2px rgba(0, 0, 0, 0.3));\n",
              "      fill: #FFFFFF;\n",
              "    }\n",
              "  </style>\n",
              "\n",
              "      <script>\n",
              "        const buttonEl =\n",
              "          document.querySelector('#df-cec944a1-fab2-4791-a9ed-d2b5faa0d5d9 button.colab-df-convert');\n",
              "        buttonEl.style.display =\n",
              "          google.colab.kernel.accessAllowed ? 'block' : 'none';\n",
              "\n",
              "        async function convertToInteractive(key) {\n",
              "          const element = document.querySelector('#df-cec944a1-fab2-4791-a9ed-d2b5faa0d5d9');\n",
              "          const dataTable =\n",
              "            await google.colab.kernel.invokeFunction('convertToInteractive',\n",
              "                                                     [key], {});\n",
              "          if (!dataTable) return;\n",
              "\n",
              "          const docLinkHtml = 'Like what you see? Visit the ' +\n",
              "            '<a target=\"_blank\" href=https://colab.research.google.com/notebooks/data_table.ipynb>data table notebook</a>'\n",
              "            + ' to learn more about interactive tables.';\n",
              "          element.innerHTML = '';\n",
              "          dataTable['output_type'] = 'display_data';\n",
              "          await google.colab.output.renderOutput(dataTable, element);\n",
              "          const docLink = document.createElement('div');\n",
              "          docLink.innerHTML = docLinkHtml;\n",
              "          element.appendChild(docLink);\n",
              "        }\n",
              "      </script>\n",
              "    </div>\n",
              "  </div>\n",
              "  "
            ]
          },
          "metadata": {},
          "execution_count": 37
        }
      ]
    }
  ]
}